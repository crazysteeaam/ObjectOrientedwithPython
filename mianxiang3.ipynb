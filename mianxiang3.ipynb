{
 "cells": [
  {
   "cell_type": "code",
   "metadata": {
    "pycharm": {
     "name": "#%%\n"
    }
   },
   "source": [
    "from random import randrange\n",
    "def init():\n",
    "    result={i:'goat' for i in range(3)}\n",
    "    r=randrange(0,3,1)\n",
    "    result[r]='car'\n",
    "    print(result)\n",
    "    return result\n",
    "def startGame():\n",
    "    doors=init()\n",
    "    while True:\n",
    "        try:\n",
    "            firstDoorNum=int(input('choose a door to open:'))\n",
    "            assert 0<=firstDoorNum <=2\n",
    "        except:\n",
    "            print(\"Door number must be between {} and {}\".format(0,2))\n",
    "        for door in (doors.keys()-{firstDoorNum}):\n",
    "            if doors[door]=='goat':\n",
    "                print('\"goat\"behind the door',door)\n",
    "            else:     #添加一个else，若开门不是山羊则跳过\n",
    "                continue\n",
    "            thirdDoorNum=(doors.keys()-{door,firstDoorNum}).pop()\n",
    "            change=input('Switch to {}?(y/n)'.format(thirdDoorNum))\n",
    "            finalDoorNum=thirdDoorNum if change=='y' else firstDoorNum\n",
    "            if doors[finalDoorNum]=='goat':\n",
    "                return \"I win！\"\n",
    "            else:\n",
    "                return 'You win!'\n",
    "while True:\n",
    "    print(\"=\"*30)\n",
    "    print(startGame())\n",
    "    r=input(\"Do you want to try once more?(y/n)\")\n",
    "    if r==\"n\":\n",
    "        break"
   ],
   "execution_count": null,
   "outputs": []
  },
  {
   "cell_type": "code",
   "execution_count": null,
   "outputs": [],
   "source": [],
   "metadata": {
    "collapsed": false,
    "pycharm": {
     "name": "#%%\n"
    }
   }
  }
 ],
 "metadata": {
  "language_info": {
   "name": "python"
  },
  "orig_nbformat": 4
 },
 "nbformat": 4,
 "nbformat_minor": 2
}