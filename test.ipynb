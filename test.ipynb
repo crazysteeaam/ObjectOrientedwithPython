{
 "cells": [
  {
   "cell_type": "code",
   "execution_count": 2,
   "metadata": {
    "pycharm": {
     "name": "#%%\n"
    }
   },
   "outputs": [
    {
     "name": "stdout",
     "output_type": "stream",
     "text": [
      "10\n"
     ]
    }
   ],
   "source": [
    "import copy\n",
    "d1={\"a\":[1,2],'b':2}\n",
    "d2=d1.copy()\n",
    "d1['a'][0]=5\n",
    "sum=d1[\"a\"][0]+d2[\"a\"][0]\n",
    "print(sum)"
   ]
  },
  {
   "cell_type": "code",
   "execution_count": 34,
   "metadata": {
    "pycharm": {
     "name": "#%%\n"
    }
   },
   "outputs": [
    {
     "name": "stdout",
     "output_type": "stream",
     "text": [
      "None\n",
      "1\n",
      "<__main__.A object at 0x000001F3D55DA220>\n"
     ]
    }
   ],
   "source": [
    "class A:\n",
    "    def __init__(self,para=None):\n",
    "        print(para)\n",
    "\n",
    "a=A()\n",
    "a=A(1)\n",
    "a=A(a)"
   ]
  },
  {
   "cell_type": "code",
   "execution_count": 15,
   "metadata": {
    "pycharm": {
     "name": "#%%\n"
    }
   },
   "outputs": [
    {
     "name": "stdout",
     "output_type": "stream",
     "text": [
      "88\n",
      "100\n",
      "None\n"
     ]
    }
   ],
   "source": [
    "class Account:\n",
    "    def __init__(self,id):\n",
    "        self.id=id\n",
    "        id=88\n",
    "        print(id)\n",
    "\n",
    "def hello():\n",
    "    pass\n",
    "        \n",
    "acc=Account('100')\n",
    "print(acc.id)\n",
    "print(hello().__doc__)"
   ]
  },
  {
   "cell_type": "code",
   "execution_count": 21,
   "metadata": {
    "pycharm": {
     "name": "#%%\n"
    }
   },
   "outputs": [
    {
     "name": "stdout",
     "output_type": "stream",
     "text": [
      "<__main__.A object at 0x000001F3D72B3AF0> 1 2\n"
     ]
    }
   ],
   "source": [
    "class A:\n",
    "    def foo(self,x):\n",
    "        print(self,x)\n",
    "    def foo(self,x,y):\n",
    "        print(self,x,y)\n",
    "\n",
    "a=A()\n",
    "a.foo(1,2)"
   ]
  },
  {
   "cell_type": "code",
   "execution_count": 14,
   "outputs": [
    {
     "name": "stdout",
     "output_type": "stream",
     "text": [
      "4 5 4 5 4 5 4 5 "
     ]
    }
   ],
   "source": [
    "from tkinter import *            #导入tkinter模块所有内容\n",
    "root = Tk();\n",
    "root.title(\"Listbox\")  #窗口标题\n",
    "v = StringVar()\n",
    "v.set(('linux','windows','unix'))\n",
    "lb = Listbox(root, selectmode=EXTENDED, listvariable = v)\n",
    "lb.pack()      #调用pack方法，调整其显示位置和大小\n",
    "for item in ['python','tkinter','widget']: lb.insert(END,item) #列表框\n",
    "def choice():\n",
    "    lb.curselection()               #选择项目的索引位置：('2', '3')\n",
    "    for i in lb.curselection():\n",
    "        print(i, end=' ') #输出选择项目：unix python\n",
    "btn=Button(root,command=choice)\n",
    "btn.pack()\n",
    "root.mainloop()             #调用组件的mainloop方法，进入事件循环"
   ],
   "metadata": {
    "collapsed": false,
    "pycharm": {
     "name": "#%%\n"
    }
   }
  },
  {
   "cell_type": "code",
   "execution_count": 10,
   "outputs": [],
   "source": [],
   "metadata": {
    "collapsed": false,
    "pycharm": {
     "name": "#%%\n"
    }
   }
  },
  {
   "cell_type": "code",
   "execution_count": 2,
   "outputs": [],
   "source": [],
   "metadata": {
    "collapsed": false,
    "pycharm": {
     "name": "#%%\n"
    }
   }
  },
  {
   "cell_type": "code",
   "execution_count": null,
   "outputs": [],
   "source": [],
   "metadata": {
    "collapsed": false,
    "pycharm": {
     "name": "#%%\n"
    }
   }
  }
 ],
 "metadata": {
  "interpreter": {
   "hash": "73e03da126b73bfff3642ec5261d56fa25c444ea595de51041687efaa60dda41"
  },
  "kernelspec": {
   "display_name": "Python 3.9.7 ('base')",
   "language": "python",
   "name": "python3"
  },
  "language_info": {
   "codemirror_mode": {
    "name": "ipython",
    "version": 3
   },
   "file_extension": ".py",
   "mimetype": "text/x-python",
   "name": "python",
   "nbconvert_exporter": "python",
   "pygments_lexer": "ipython3",
   "version": "3.9.7"
  },
  "orig_nbformat": 4
 },
 "nbformat": 4,
 "nbformat_minor": 2
}