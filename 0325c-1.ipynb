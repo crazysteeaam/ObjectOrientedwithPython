{
 "cells": [
  {
   "cell_type": "code",
   "execution_count": 9,
   "metadata": {
    "collapsed": true,
    "pycharm": {
     "name": "#%%\n"
    }
   },
   "outputs": [
    {
     "name": "stdout",
     "output_type": "stream",
     "text": [
      "庄家的牌： ['K♠', '9♦']\n",
      "玩家的牌： ['3♦', '4❤']\n",
      "玩家拿到的牌为:8♠,['3♦', '4❤', '8♠']\n",
      "庄家赢牌！\n"
     ]
    }
   ],
   "source": [
    "import random\n",
    "\n",
    "def get_shuffled_deck():\n",
    "    #生成52张扑克牌，并随机摆放\n",
    "    suits=['♣','♠','♦','❤']\n",
    "    ranks={'2','3','4','5','6','7','8','9','10','J','Q','K','A'}\n",
    "    deck=[]\n",
    "    for suit in suits:\n",
    "        for rank in ranks:\n",
    "            deck.append(rank+''+suit)\n",
    "    random.shuffle(deck)\n",
    "    return deck\n",
    "\n",
    "def deal_card(deck,participant):\n",
    "    #发牌\n",
    "    card=deck.pop()\n",
    "    participant.append(card)\n",
    "    return card\n",
    "\n",
    "def compute_total(hand):\n",
    "    values={'2':2,'3':3,'4':4,'5':5,'6':6,'7':7,'8':8,'9':9,'10':10,'J':10,'Q':10,'K':10,'A':11}\n",
    "    result=0\n",
    "    numAces=0\n",
    "    for card in hand:\n",
    "        result+=values[card[0]]\n",
    "        if card[0]=='A':\n",
    "            numAces+=1\n",
    "    while result>21 and numAces>0:\n",
    "        result-=10\n",
    "        numAces-=1\n",
    "    return result\n",
    "\n",
    "def blackjack():\n",
    "    deck=get_shuffled_deck()\n",
    "    house=[]\n",
    "    player=[]\n",
    "    for i in range(2):\n",
    "        deal_card(deck,player)\n",
    "        deal_card(deck,house)\n",
    "    print(\"庄家的牌：\",house)\n",
    "    print(\"玩家的牌：\",player)\n",
    "\n",
    "    answer=input(\"是否继续拿牌(y/n，缺省为y):\")\n",
    "    while answer in (\"\",\"y\",\"Y\"):\n",
    "        card=deal_card(deck,player)\n",
    "        print(\"玩家拿到的牌为:{0},{1}\".format(card,player))\n",
    "        if compute_total(player)>21:\n",
    "            print(\"爆掉 ... 玩家输牌！\")\n",
    "            return\n",
    "        answer=input(\"是否继续拿牌(y/n，缺省为y):\")\n",
    "\n",
    "    while compute_total(house) <17:\n",
    "        card=deal_card(deck,house)\n",
    "        print(\"庄家拿到的牌为:{0},{1}\".format(card,house))\n",
    "        if compute_total(house)>21:\n",
    "            print(\"爆掉 ... 玩家赢牌！\")\n",
    "            return\n",
    "\n",
    "    houseTotal,playerTotal=compute_total(house),compute_total(player)\n",
    "    if houseTotal>playerTotal:\n",
    "        print(\"庄家赢牌！\")\n",
    "    elif houseTotal<playerTotal:\n",
    "        print(\"玩家赢牌！\")\n",
    "    elif houseTotal==21 and 2==len(house)<len(player):\n",
    "        print(\"you loose.\")\n",
    "    elif playerTotal==21 and 2==len(house)<len(player):\n",
    "        print(\"庄家赢牌！\")\n",
    "    else:\n",
    "        print(\"平局！\")\n",
    "\n",
    "if __name__==\"__main__\":\n",
    "    blackjack()"
   ]
  },
  {
   "cell_type": "code",
   "execution_count": 3,
   "outputs": [],
   "source": [],
   "metadata": {
    "collapsed": false,
    "pycharm": {
     "name": "#%%\n"
    }
   }
  },
  {
   "cell_type": "code",
   "execution_count": null,
   "outputs": [],
   "source": [],
   "metadata": {
    "collapsed": false,
    "pycharm": {
     "name": "#%%\n"
    }
   }
  }
 ],
 "metadata": {
  "kernelspec": {
   "display_name": "Python 3",
   "language": "python",
   "name": "python3"
  },
  "language_info": {
   "codemirror_mode": {
    "name": "ipython",
    "version": 2
   },
   "file_extension": ".py",
   "mimetype": "text/x-python",
   "name": "python",
   "nbconvert_exporter": "python",
   "pygments_lexer": "ipython2",
   "version": "2.7.6"
  }
 },
 "nbformat": 4,
 "nbformat_minor": 0
}