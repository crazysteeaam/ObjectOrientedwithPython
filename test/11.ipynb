{
 "cells": [
  {
   "cell_type": "code",
   "execution_count": 2,
   "metadata": {
    "pycharm": {
     "name": "#%%\n"
    }
   },
   "outputs": [],
   "source": [
    "from tkinter import *    #导入tkinter模块所有内容\n",
    "from tkinter import messagebox #导入tkinter模块中的子模块messagebox\n",
    "root = Tk()            #创建1个Tk根窗口组件root\n",
    "btnSayHi = Button(root)  #创建1个按钮组件btnSayHi，作为root的子组件\n",
    "btnSayHi[\"text\"]=\"Hello\" #设置btnSayHi的text属性\n",
    "btnSayHi.pack()        #调用组件的pack方法，调整其显示位置和大小\n",
    "def sayHi(e):           #定义事件处理程序\n",
    "    messagebox.showinfo(\"Message\",\"Hello, world!\") #弹出消息框\n",
    "btnSayHi.bind(\"<Button-1>\",sayHi)  #绑定事件处理程序，鼠标左键\n",
    "root.mainloop()        #调用组件的mainloop方法，进入事件循环"
   ]
  },
  {
   "cell_type": "code",
   "execution_count": 3,
   "metadata": {
    "pycharm": {
     "name": "#%%\n"
    }
   },
   "outputs": [],
   "source": [
    "import tkinter as tk        #导入tkinter模块\n",
    "from tkinter import messagebox #导入tkinter模块中的子模块messagebox\n",
    "class Application(tk.Frame): #定义GUI应用程序类，派生于Frame类\n",
    "    def __init__(self, master=None):   #构造函数，master为父窗口\n",
    "        tk.Frame.__init__(self, master) #调用父类的构造函数\n",
    "        self.pack() #调用组件的pack方法，调整其显示位置和大小\n",
    "        self.createWidgets()         #调用对象方法，创建子组件\n",
    "    def createWidgets(self):          #对象方法：创建子组件\n",
    "        self.btnSayHi = tk.Button(self) #创建按钮组件btnSayHi\n",
    "        self.btnSayHi[\"text\"] = \"Hello\" #设置显示文本属性\n",
    "        self.btnSayHi[\"command\"] = self.sayHi #设置命令属性，绑定事件处理程序\n",
    "        self.btnSayHi.pack()     #调用组件的pack方法，调整其显示位置和大小\n",
    "        #创建按钮组件btnQuit，其显示文本为\"Quit\"，命令事件处理程序为root.destroy\n",
    "        self.btnQuit = tk.Button(self, text=\"Quit\", command=root.destroy)\n",
    "        self.btnQuit.pack()      #调用组件的pack方法，调整其显示位置和大小\n",
    "    def sayHi(self):            #定义事件处理程序\n",
    "        tk.messagebox.showinfo(\"Message\",\"Hello, world!\") #弹出消息框\n",
    "root = tk.Tk()                 #创建一个Tk根窗口组件root\n",
    "app = Application(master=root)  #创建Application的对象实例\n",
    "app.mainloop()               #调用组件的mainloop方法，进入事件循环"
   ]
  },
  {
   "cell_type": "code",
   "execution_count": 18,
   "metadata": {
    "pycharm": {
     "name": "#%%\n"
    }
   },
   "outputs": [],
   "source": [
    "from tkinter import *         #导入tkinter模块所有内容\n",
    "root = Tk(); root.title(\"登录\")  #窗口标题\n",
    "root.geometry('500x150-150+150')\n",
    "f1 = Frame(root); f1.pack()     #界面分为上下三个Frame，f1放置第一行标签和文本框\n",
    "f2 = Frame(root); f2.pack() #f2放置第二行标签和文本框\n",
    "f3 = Frame(root); f3.pack() #f3放置第三行二个按钮\n",
    "Label(f1, text=\"用户名\").pack(side=LEFT,anchor=\"center\") #标签放置在f1中，左停靠\n",
    "Entry(f1).pack(side=LEFT)       #单行文本框放置在f1中，左停靠\n",
    "Label(f2, text=\"密  码\").pack(side=LEFT) #标签放置在f2中，左停靠\n",
    "Entry(f2, show=\"*\").pack(side=LEFT) #单行文本框放置在f2中，左停靠\n",
    "Button(f3, text=\"登录\").pack(side=LEFT) #按钮放置在f3中，右停靠\n",
    "Button(f3, text=\"取消\").pack(side=LEFT) #按钮放置在f3中，右停靠\n",
    "root.mainloop()          #调用组件的mainloop方法，进入事件循环"
   ]
  },
  {
   "cell_type": "code",
   "execution_count": 25,
   "metadata": {
    "pycharm": {
     "name": "#%%\n"
    }
   },
   "outputs": [],
   "source": [
    "from tkinter import *                                      #导入tkinter模块所有内容\n",
    "root = Tk(); root.title(\"登录\")                                #窗口标题\n",
    "Label(root, text=\"用户名\").grid(row=0, column=0)               #用户名标签放置第0行第0列\n",
    "Entry(root).grid(row=0, column=1, columnspan=2)       #用户名文本框放置第0行第1列，跨两列\n",
    "Label(root, text=\"密  码\").grid(row=1, column=0)               #密码标签放置第1行第0列\n",
    "Entry(root, show=\"*\").grid(row=1, column=1, columnspan=2) #密码文本框放置第1行第1列，跨两列\n",
    "Button(root, text=\"登录\").grid(row=3, column=0, columnspan=2, sticky='E')        #登录按钮右侧贴紧\n",
    "Button(root, text=\"取消\").grid(row=3, column=2, sticky='W')       #取消按钮左侧贴紧\n",
    "root.mainloop()                                   #调用组件的mainloop方法，进入事件循环"
   ]
  },
  {
   "cell_type": "code",
   "execution_count": 27,
   "metadata": {
    "pycharm": {
     "name": "#%%\n"
    }
   },
   "outputs": [],
   "source": [
    "from tkinter import *      #导入tkinter模块所有内容\n",
    "root = Tk()\n",
    "Button(root, text=\"1\").grid(row=0, column=0) #按钮1放置于0行0列\n",
    "Button(root, text=\"2\").grid(row=0, column=1) #按钮2放置于0行1列\n",
    "Button(root, text=\"3\").grid(row=0, column=2) #按钮3放置于0行2列\n",
    "Button(root, text=\"4\").grid(row=1, column=0) #按钮4放置于1行0列\n",
    "Button(root, text=\"5\").grid(row=1, column=1) #按钮5放置于1行1列\n",
    "Button(root, text=\"6\").grid(row=1, column=2) #按钮6放置于1行2列\n",
    "Button(root, text=\"7\").grid(row=2, column=0) #按钮7放置于2行0列\n",
    "Button(root, text=\"8\").grid(row=2, column=1) #按钮8放置于2行1列\n",
    "Button(root, text=\"9\").grid(row=2, column=2) #按钮9放置于2行2列\n",
    "Button(root, text=\"0\").grid(row=3, column=0, columnspan=2, sticky=E+W) #跨两列，左右贴紧\n",
    "Button(root, text=\".\").grid(row=3, column=2, sticky=E+W)   #左右贴紧\n",
    "root.mainloop()          #调用组件的mainloop方法，进入事件循环"
   ]
  },
  {
   "cell_type": "code",
   "execution_count": 28,
   "metadata": {
    "pycharm": {
     "name": "#%%\n"
    }
   },
   "outputs": [],
   "source": [
    "from tkinter import *             #导入tkinter模块所有内容\n",
    "root = Tk();root.title(\"登录\")       #窗口标题\n",
    "root['width']=200; root['height']=80  #窗口宽度、高度\n",
    "Label(root, text=\"用户名\", width=6).place(x=1, y=1) #用户名标签，绝对坐标(1,1)\n",
    "Entry(root, width=20).place(x=45, y=1)            #用户名文本框，绝对坐标(45,1)\n",
    "Label(root, text=\"密  码\",width=6).place(x=1, y=20) #密码标签，绝对坐标(1,20)\n",
    "Entry(root, width=20,show=\"*\").place(x=45, y=20)  #密码文本框，绝对坐标(45,20)\n",
    "Button(root, text=\"登录\", width=8).place(x=40, y=40) #登录按钮，绝对坐标(40,40)\n",
    "Button(root, text=\"取消\", width=8).place(x=110, y=40)#取消按钮，绝对坐标(110,40)\n",
    "root.mainloop()      #调用组件的mainloop方法，进入事件循环"
   ]
  },
  {
   "cell_type": "code",
   "execution_count": 29,
   "metadata": {
    "pycharm": {
     "name": "#%%\n"
    }
   },
   "outputs": [
    {
     "name": "stdout",
     "output_type": "stream",
     "text": [
      "当前坐标位置： 107 68\n",
      "当前坐标位置： 95 48\n",
      "当前坐标位置： 120 72\n",
      "当前坐标位置： 130 93\n",
      "当前坐标位置： 136 99\n",
      "当前坐标位置： 122 65\n",
      "当前坐标位置： 122 65\n",
      "当前坐标位置： 115 69\n",
      "当前坐标位置： 88 63\n",
      "当前坐标位置： 72 60\n",
      "当前坐标位置： 88 84\n",
      "当前坐标位置： 130 113\n",
      "当前坐标位置： 180 177\n",
      "当前坐标位置： 176 148\n"
     ]
    }
   ],
   "source": [
    "from tkinter import *            #导入tkinter模块所有内容\n",
    "root = Tk();root.title(\"事件处理\")  #窗口标题\n",
    "def printEvent(event):           #事件处理函数\n",
    "    print('当前坐标位置：',event.x, event.y)\n",
    "root.bind('<Button-1>',printEvent)  #单击鼠标左键\n",
    "root.mainloop()   #调用组件的mainloop方法，进入事件循环"
   ]
  },
  {
   "cell_type": "code",
   "execution_count": 31,
   "metadata": {
    "pycharm": {
     "name": "#%%\n"
    }
   },
   "outputs": [],
   "source": [
    "from tkinter import *                 #导入tkinter模块所有内容\n",
    "root = Tk();root.title(\"Label示例\")      #窗口标题\n",
    "w = Label(root, text=\"姓名\")           #创建Label组件对象，显示文本为\"姓名\"\n",
    "w.config(width=20, bg='black', fg='white') #设置宽度、背景色、前景色\n",
    "w['anchor'] = E                      #设置停靠方式为右对齐\n",
    "w.pack()            #调用pack方法，调整其显示位置和大小\n",
    "root.mainloop()      #调用组件的mainloop方法，进入事件循环"
   ]
  },
  {
   "cell_type": "code",
   "execution_count": 33,
   "metadata": {
    "pycharm": {
     "name": "#%%\n"
    }
   },
   "outputs": [],
   "source": [
    "from tkinter import *           #导入tkinter模块所有内容\n",
    "root = Tk();  root.title(\"LabelFrame\")    #创建一个Tk根窗口组件。设置root窗口标题\n",
    "lf = LabelFrame(root, text=\"组1\") #创建LabelFrame组件对象\n",
    "lf.pack()          #调用pack方法，调整其显示位置和大小\n",
    "Button(lf, text=\"确定\").pack(side=LEFT)  #“确定”按钮，左停靠\n",
    "Button(lf, text=\"取消\").pack(side=LEFT)  #“取消”按钮，左停靠\n",
    "root.mainloop()    #调用组件的mainloop方法，进入事件循环"
   ]
  },
  {
   "cell_type": "code",
   "execution_count": 34,
   "metadata": {
    "pycharm": {
     "name": "#%%\n"
    }
   },
   "outputs": [],
   "source": [
    "from tkinter import *            #导入tkinter模块所有内容\n",
    "root = Tk();  root.title(\"Button\")  #窗口标题\n",
    "w = Button(root, text=\"确定\") #创建Button组件对象，显示文本为\"确定\"\n",
    "w.config(state=DISABLED)  #设置Button组件的状态为禁用\n",
    "w['width'] = 20          #设置宽度\n",
    "w.pack()               #调用pack方法，调整其显示位置和大小\n",
    "root.mainloop()         #调用组件的mainloop方法，进入事件循环"
   ]
  },
  {
   "cell_type": "code",
   "execution_count": null,
   "metadata": {
    "pycharm": {
     "name": "#%%\n"
    }
   },
   "outputs": [],
   "source": [
    "import tkinter as tk, os       #导入tkinter模块\n",
    "class Application(tk.Frame):  #定义GUI应用程序类，派生于Frame类\n",
    "    def __init__(self, master=None):       #构造函数，master为父窗口\n",
    "        self.files = os.listdir(r'c:\\pythonpa\\images\\gif') #获取图像文件名列表\n",
    "        self.index = 0               #图片索引，初始显示第一张图片\n",
    "        self.img = tk.PhotoImage(file=r'c:\\pythonpa\\images\\gif' + '\\\\' + self.files[self.index])\n",
    "        tk.Frame.__init__(self, master) #调用父类的构造函数\n",
    "        self.pack()                 #调用组件的pack方法，调整其显示位置和大小\n",
    "        self.createWidgets()                           #调用对象方法，创建子组件\n",
    "    def createWidgets(self):                            #对象方法：创建子组件\n",
    "        self.lblImage = tk.Label(self, width=300, height=300) #创建Label组件，显示图片\n",
    "        self.lblImage['image'] = self.img                #显示第一张图片\n",
    "        self.lblImage.pack()        #调用组件的pack方法，调整其显示位置和大小\n",
    "        self.f = tk.Frame()                         #创建窗口框架\n",
    "        self.f.pack()               #调用组件的pack方法，调整其显示位置和大小\n",
    "        self.btnPrev = tk.Button(self.f, text='上一张', command=self.prev) #创建按钮组件\n",
    "        self.btnPrev.pack(side=tk.LEFT) \n",
    "        self.btnNext = tk.Button(self.f, text='下一张', command=self.next) #创建按钮组件\n",
    "        self.btnNext.pack(side=tk.LEFT) \n",
    "    def prev(self):         #定义事件处理程序\n",
    "        self.showfile(-1)   #显示上一张图片\n",
    "    def next(self):         #定义事件处理程序\n",
    "        self.showfile(1)    #显示下一张图片\n",
    "    def showfile(self, n):    #显示图片\n",
    "        self.index += n\n",
    "        if self.index < 0: self.index = len(self.files) - 1   #循环显示最后一张\n",
    "        if self.index > len(self.files) - 1: self.index = 0   #循环显示第一张\n",
    "        self.img = tk.PhotoImage(file=r'c:\\pythonpa\\images\\gif' + '\\\\' + self.files[self.index])\n",
    "        self.lblImage['image'] = self.img\n",
    "root = tk.Tk()                #创建一个Tk根窗口组件root\n",
    "root.title('简易图片浏览器')    #设置窗口标题\n",
    "app = Application(master=root)  #创建Application的对象实例\n",
    "app.mainloop()  #调用组件的mainloop方法，进入事件循环"
   ]
  },
  {
   "cell_type": "code",
   "execution_count": 35,
   "metadata": {
    "pycharm": {
     "name": "#%%\n"
    }
   },
   "outputs": [],
   "source": [
    "from tkinter import *              #导入tkinter模块所有内容\n",
    "root = Tk();  root.title(\"Message\")   #窗口标题\n",
    "w = Message(root, bg='black', fg='white')          #创建Message组件对象\n",
    "w.config(text=\"内容显示在一个宽高比为150%的消息框中\") #显示文本\n",
    "w['anchor'] = W                               #设置停靠方式为左对齐\n",
    "w.pack()                 #调用pack方法，调整其显示位置和大小\n",
    "root.mainloop()           #调用组件的mainloop方法，进入事件循环"
   ]
  },
  {
   "cell_type": "code",
   "execution_count": 36,
   "metadata": {
    "pycharm": {
     "name": "#%%\n"
    }
   },
   "outputs": [],
   "source": [
    "from tkinter import *            #导入tkinter模块所有内容\n",
    "root = Tk();  root.title(\"Entry\")   #窗口标题\n",
    "v = StringVar()              #创建StringVar对象\n",
    "w1 = Entry(root, textvariable=v) #创建Entry组件对象\n",
    "w1.pack()                   #显示单行文本框 \n",
    "w1.get()                    #获取组件的内容\n",
    "v.set('1234')      #设置StringVar对象的值，组件文本自动更新\n",
    "root.mainloop()   #调用组件的mainloop方法，进入事件循环\n"
   ]
  },
  {
   "cell_type": "code",
   "execution_count": 37,
   "metadata": {
    "pycharm": {
     "name": "#%%\n"
    }
   },
   "outputs": [],
   "source": [
    "from tkinter import *            #导入tkinter模块所有内容\n",
    "root = Tk();  root.title(\"Text\")    #窗口标题\n",
    "w = Text(root, width=20, height=5) #创建文本框，宽20，高5\n",
    "w.pack()        #调用pack方法，调整其显示位置和大小\n",
    "w.insert(1.0, '生，还是死，这是一个问题！\\n ')\n",
    "w.get(1.0)       #'生'\n",
    "w.get(1.0, END)  #'生，还是死，这是一个问题！\\n'\n",
    "root.mainloop()  #调用组件的mainloop方法，进入事件循环"
   ]
  },
  {
   "cell_type": "code",
   "execution_count": 39,
   "metadata": {
    "pycharm": {
     "name": "#%%\n"
    }
   },
   "outputs": [],
   "source": [
    "import tkinter as tk            #导入tkinter模块\n",
    "from tkinter import messagebox   #导入tkinter模块中的子模块messagebox\n",
    "class Application(tk.Frame):      #定义GUI应用程序类，派生于Frame类\n",
    "    def __init__(self, master=None):     #构造函数，master为父窗口\n",
    "        tk.Frame.__init__(self, master)   #调用父类的构造函数\n",
    "        self.grid()      #调用组件的pack方法，调整其显示位置和大小\n",
    "        self.createWidgets()           #调用对象方法，创建子组件\n",
    "    def createWidgets(self):            #对象方法：创建子组件\n",
    "        self.lblEmail = tk.Label(self, text='用户名') #创建Label组件-用户名\n",
    "        self.lblPass1 = tk.Label(self, text='密码')   #创建Label组件-密码\n",
    "        self.lblPass2 = tk.Label(self, text='确认密码') #创建Label组件-确认密码\n",
    "        self.lblDesc = tk.Label(self, text='自我简介') #创建Label组件-自我简介\n",
    "        self.lblEmail.grid(row=0, column=0, sticky=tk.E) #Email标签放置0行0列\n",
    "        self.lblPass1.grid(row=1, column=0, sticky=tk.E) #密码标签放置1行0列\n",
    "        self.lblPass2.grid(row=2, column=0, sticky=tk.E) #确认密码标签放置2行0列\n",
    "        self.lblDesc.grid(row=3, column=0, sticky=tk.NE) #自我简介标签放置3行0列\n",
    "        self.entryEmail = tk.Entry(self)          #创建Entry组件\n",
    "        self.entryPass1 = tk.Entry(self, show='*')  #密码默认显示为*\n",
    "        self.entryPass2 = tk.Entry(self, show='*')  #确认密码默认显示为*\n",
    "        self.textDesc = tk.Text(self, width=20, height=5) #创建Text组件\n",
    "        self.entryEmail.grid(row=0, column=1, columnspan=2) #用户名文本框放置0行1列\n",
    "        self.entryPass1.grid(row=1, column=1, columnspan=2) #密码文本框放置1行1列\n",
    "        self.entryPass2.grid(row=2, column=1, columnspan=2) #确认密码文本框放置2行1列\n",
    "        self.textDesc.grid(row=3, column=1, columnspan=2) #自我简介文本框放置3行1列\n",
    "        self.btnOk = tk.Button(self, text='注册', command=self.funcOK) #创建按钮组件\n",
    "        self.btnOk.grid(row=4, column=1, sticky=tk.E) #“注册”按钮放置4行1列\n",
    "        self.btnCancel = tk.Button(self, text='取消', command=root.destroy) #创建按钮组件\n",
    "        self.btnCancel.grid(row=4, column=2, sticky=tk.W) #“取消”按钮放置4行2列\n",
    "    def funcOK(self):            #定义注册事件处理程序\n",
    "        str1 = '欢迎注册：\\n'\n",
    "        str1 += \"您的帐户为：\" + self.entryEmail.get() + '\\n'     #获取用户名\n",
    "        str1 += \"您的特长为：\\n\" + self.textDesc.get(0.0, tk.END)    #获取自我简介\n",
    "        tk.messagebox.showinfo(\"注册\", str1)                 #弹出消息框\n",
    "root = tk.Tk()               #创建一个Tk根窗口组件root\n",
    "root.title('新用户注册')       #设置窗口标题\n",
    "app = Application(master=root) #创建Application的对象实例\n",
    "app.mainloop()   #调用组件的mainloop方法，进入事件循环"
   ]
  },
  {
   "cell_type": "code",
   "execution_count": 48,
   "metadata": {
    "pycharm": {
     "name": "#%%\n"
    }
   },
   "outputs": [
    {
     "name": "stdout",
     "output_type": "stream",
     "text": [
      "abac\n",
      "ABAC\n"
     ]
    }
   ],
   "source": [
    "s3='abAC'\n",
    "print(s3.lower())\n",
    "print(s3.upper())"
   ]
  },
  {
   "cell_type": "code",
   "execution_count": 110,
   "metadata": {
    "pycharm": {
     "name": "#%%\n"
    }
   },
   "outputs": [
    {
     "ename": "SyntaxError",
     "evalue": "invalid syntax (Temp/ipykernel_16188/1165671411.py, line 1)",
     "output_type": "error",
     "traceback": [
      "\u001B[1;36m  File \u001B[1;32m\"C:\\Users\\jerry\\AppData\\Local\\Temp/ipykernel_16188/1165671411.py\"\u001B[1;36m, line \u001B[1;32m1\u001B[0m\n\u001B[1;33m    def func(*,b=2,*c,**d):\u001B[0m\n\u001B[1;37m                   ^\u001B[0m\n\u001B[1;31mSyntaxError\u001B[0m\u001B[1;31m:\u001B[0m invalid syntax\n"
     ]
    }
   ],
   "source": [
    "def func(*,b=2,*c,**d):\n",
    "    print(b)\n",
    "    print(c)\n",
    "    \n",
    "func(1)"
   ]
  },
  {
   "cell_type": "code",
   "execution_count": 80,
   "metadata": {
    "pycharm": {
     "name": "#%%\n"
    }
   },
   "outputs": [
    {
     "name": "stdout",
     "output_type": "stream",
     "text": [
      "strs\n"
     ]
    }
   ],
   "source": [
    "A='str'\n",
    "def inc(c=1):\n",
    "    global A\n",
    "    A=A+'s'\n",
    "    return A\n",
    "inc()\n",
    "print(A)"
   ]
  },
  {
   "cell_type": "code",
   "execution_count": 90,
   "metadata": {
    "pycharm": {
     "name": "#%%\n"
    }
   },
   "outputs": [
    {
     "name": "stdout",
     "output_type": "stream",
     "text": [
      "2272576498032\n",
      "2272576498064\n",
      "2272576498032\n",
      "2272576498064\n"
     ]
    }
   ],
   "source": [
    "print(id(3))\n",
    "print(id(4))\n",
    "a=3\n",
    "print(id(a))\n",
    "a=4\n",
    "print(id(a))\n"
   ]
  },
  {
   "cell_type": "code",
   "execution_count": 99,
   "metadata": {
    "pycharm": {
     "name": "#%%\n"
    }
   },
   "outputs": [
    {
     "data": {
      "text/plain": [
       "'  88.00000'"
      ]
     },
     "execution_count": 99,
     "metadata": {},
     "output_type": "execute_result"
    }
   ],
   "source": [
    "'%*.*f'%(10,5,88)"
   ]
  }
 ],
 "metadata": {
  "interpreter": {
   "hash": "73e03da126b73bfff3642ec5261d56fa25c444ea595de51041687efaa60dda41"
  },
  "kernelspec": {
   "display_name": "Python 3.9.7 ('base')",
   "language": "python",
   "name": "python3"
  },
  "language_info": {
   "codemirror_mode": {
    "name": "ipython",
    "version": 3
   },
   "file_extension": ".py",
   "mimetype": "text/x-python",
   "name": "python",
   "nbconvert_exporter": "python",
   "pygments_lexer": "ipython3",
   "version": "3.9.7"
  },
  "orig_nbformat": 4
 },
 "nbformat": 4,
 "nbformat_minor": 2
}