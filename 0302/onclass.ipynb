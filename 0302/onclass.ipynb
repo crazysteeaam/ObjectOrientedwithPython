{
 "cells": [
  {
   "cell_type": "code",
   "execution_count": 2,
   "metadata": {},
   "outputs": [],
   "source": [
    "from faker import Faker\n",
    "import pandas as pd\n",
    "\n",
    "fake=Faker([\"zh_CN\"])\n",
    "Faker.seed(0)\n",
    "\n",
    "def get_data():\n",
    "    key_list=[\"姓名\",\"详细地址\",\"所在省份\",\"手机号\",\"身份证号\",\"出生年月\",\"邮箱\"]\n",
    "    name=fake.name()\n",
    "    address=fake.address()\n",
    "    province=address[:3]\n",
    "    number=fake.phone_number()\n",
    "    id_card=fake.ssn()\n",
    "    birth_date=id_card[6:14]\n",
    "    email=fake.email()\n",
    "    info_list=[name,address,province,number,id_card,birth_date,email]\n",
    "    person_info=dict(zip(key_list,info_list))\n",
    "    return person_info\n",
    "\n",
    "df=pd.DataFrame(columns=[\"姓名\",\"详细地址\",\"所在省份\",\"手机号\",\"身份证号\",\"出生年月\",\"邮箱\"])\n",
    "for i in range(10000):\n",
    "    person_info=[get_data()]\n",
    "    df1=pd.DataFrame(person_info)\n",
    "    df=pd.concat([df,df1])\n",
    "df.to_excel(\"模拟数据.xlsx\",index=None)"
   ]
  }
 ],
 "metadata": {
  "interpreter": {
   "hash": "73e03da126b73bfff3642ec5261d56fa25c444ea595de51041687efaa60dda41"
  },
  "kernelspec": {
   "display_name": "Python 3.9.7 ('base')",
   "language": "python",
   "name": "python3"
  },
  "language_info": {
   "codemirror_mode": {
    "name": "ipython",
    "version": 3
   },
   "file_extension": ".py",
   "mimetype": "text/x-python",
   "name": "python",
   "nbconvert_exporter": "python",
   "pygments_lexer": "ipython3",
   "version": "3.9.7"
  },
  "orig_nbformat": 4
 },
 "nbformat": 4,
 "nbformat_minor": 2
}
