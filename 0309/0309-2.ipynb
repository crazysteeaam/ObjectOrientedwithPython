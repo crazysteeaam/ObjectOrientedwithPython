{
 "cells": [
  {
   "cell_type": "code",
   "execution_count": 1,
   "metadata": {},
   "outputs": [
    {
     "name": "stdout",
     "output_type": "stream",
     "text": [
      "5768\n",
      "5768\n"
     ]
    }
   ],
   "source": [
    "def climbStairs1(n):\n",
    "    #递推法\n",
    "    a=1\n",
    "    b=2\n",
    "    c=4\n",
    "    for i in range(n-3):\n",
    "        c,b,a=a+b+c,c,b\n",
    "    return c\n",
    "\n",
    "def climbStairs2(n):\n",
    "    #递归法\n",
    "    first3={1:1,2:2,3:4}\n",
    "    if n in first3.keys():\n",
    "        return first3[n]\n",
    "    else:\n",
    "        return climbStairs2(n-1)+climbStairs2(n-2)+climbStairs2(n-3)\n",
    "\n",
    "print(climbStairs1(15))\n",
    "print(climbStairs2(15))"
   ]
  }
 ],
 "metadata": {
  "interpreter": {
   "hash": "73e03da126b73bfff3642ec5261d56fa25c444ea595de51041687efaa60dda41"
  },
  "kernelspec": {
   "display_name": "Python 3.9.7 ('base')",
   "language": "python",
   "name": "python3"
  },
  "language_info": {
   "codemirror_mode": {
    "name": "ipython",
    "version": 3
   },
   "file_extension": ".py",
   "mimetype": "text/x-python",
   "name": "python",
   "nbconvert_exporter": "python",
   "pygments_lexer": "ipython3",
   "version": "3.9.7"
  },
  "orig_nbformat": 4
 },
 "nbformat": 4,
 "nbformat_minor": 2
}
