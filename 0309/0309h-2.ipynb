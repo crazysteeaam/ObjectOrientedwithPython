{
 "cells": [
  {
   "cell_type": "code",
   "execution_count": 21,
   "metadata": {},
   "outputs": [],
   "source": [
    "import PIL.Image\n",
    "def smooth(im,orient=\"CC\"): \n",
    "    width,height = im.size\n",
    "    im_new = PIL.Image.new(im.mode, im.size)\n",
    "    for i in range(0, width):\n",
    "        for j in range(0, height):\n",
    "            pixel=[0,0,0,0]\n",
    "            pixel[0] =int((im.getpixel((i,j))[0]+im.getpixel((max(i-1,0),j))[0]+im.getpixel((min(i+1,0),j))[0]+im.getpixel((i,max(j-1,0)))[0]+im.getpixel((i,min(j+1,0)))[0]+im.getpixel((min(i+1,0),min(j+1,0)))[0]+im.getpixel((min(i+1,0),max(j-1,0)))[0]+im.getpixel((max(i-1,0),max(j-1,0)))[0]+im.getpixel((max(i-1,0),min(j+1,0)))[0])/9)\n",
    "            pixel[1] =int((im.getpixel((i,j))[1]+im.getpixel((max(i-1,0),j))[1]+im.getpixel((min(i+1,0),j))[1]+im.getpixel((i,max(j-1,0)))[1]+im.getpixel((i,min(j+1,0)))[1]+im.getpixel((min(i+1,0),min(j+1,0)))[1]+im.getpixel((min(i+1,0),max(j-1,0)))[1]+im.getpixel((max(i-1,0),max(j-1,0)))[1]+im.getpixel((max(i-1,0),min(j+1,0)))[1])/9)\n",
    "            pixel[2] =int((im.getpixel((i,j))[2]+im.getpixel((max(i-1,0),j))[2]+im.getpixel((min(i+1,0),j))[2]+im.getpixel((i,max(j-1,0)))[2]+im.getpixel((i,min(j+1,0)))[2]+im.getpixel((min(i+1,0),min(j+1,0)))[2]+im.getpixel((min(i+1,0),max(j-1,0)))[2]+im.getpixel((max(i-1,0),max(j-1,0)))[2]+im.getpixel((max(i-1,0),min(j+1,0)))[2])/9)\n",
    "            pixel[3] =int((im.getpixel((i,j))[3]+im.getpixel((max(i-1,0),j))[3]+im.getpixel((min(i+1,0),j))[3]+im.getpixel((i,max(j-1,0)))[3]+im.getpixel((i,min(j+1,0)))[3]+im.getpixel((min(i+1,0),min(j+1,0)))[3]+im.getpixel((min(i+1,0),max(j-1,0)))[3]+im.getpixel((max(i-1,0),max(j-1,0)))[3]+im.getpixel((max(i-1,0),min(j+1,0)))[3])/9)\n",
    "            pixel=tuple(pixel)\n",
    "            if orient==\"CC\":\n",
    "                im_new.putpixel((i,j), pixel)\n",
    "            else:#族转 180 度时\n",
    "                im_new.putpixel((i,j), pixel)\n",
    "    return im_new\n",
    "\n",
    "#测试代码\n",
    "if __name__==\"__main__\":\n",
    "    im = PIL.Image.open('D:/20212022s/objectoriented2022/0309/1.png')\n",
    "    smooth(im, orient=\"CC\").show()"
   ]
  },
  {
   "cell_type": "code",
   "execution_count": null,
   "metadata": {},
   "outputs": [],
   "source": []
  }
 ],
 "metadata": {
  "interpreter": {
   "hash": "73e03da126b73bfff3642ec5261d56fa25c444ea595de51041687efaa60dda41"
  },
  "kernelspec": {
   "display_name": "Python 3.9.7 ('base')",
   "language": "python",
   "name": "python3"
  },
  "language_info": {
   "codemirror_mode": {
    "name": "ipython",
    "version": 3
   },
   "file_extension": ".py",
   "mimetype": "text/x-python",
   "name": "python",
   "nbconvert_exporter": "python",
   "pygments_lexer": "ipython3",
   "version": "3.9.7"
  },
  "orig_nbformat": 4
 },
 "nbformat": 4,
 "nbformat_minor": 2
}
