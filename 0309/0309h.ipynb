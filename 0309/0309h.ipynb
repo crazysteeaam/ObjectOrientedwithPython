{
 "cells": [
  {
   "cell_type": "markdown",
   "metadata": {},
   "source": [
    "##### CS.14"
   ]
  },
  {
   "cell_type": "code",
   "execution_count": 1,
   "metadata": {},
   "outputs": [],
   "source": [
    "import PIL.Image\n",
    "def copy(im):\n",
    "# 获取閃像的宽度 width 和高度 height， 并创建新图像\n",
    "    width,height = im.size\n",
    "    im_new = PIL.Image.new(im.mode, im.size)\n",
    "#使用铁套循环，把旧图像的像素搭贝到新图像对应位置\n",
    "    for i in range(0, width):\n",
    "        for j in range(0, height):\n",
    "            pixel = im.getpixel((i,j))\n",
    "            im_new.putpixel((i,j), pixel)\n",
    "    return im_new\n",
    "\n",
    "#测试代码\n",
    "if __name__==\"__main__\":\n",
    "    im = PIL.Image.open('D:/20212022s/objectoriented2022/0309/1.png')\n",
    "    copy(im).show()"
   ]
  },
  {
   "cell_type": "markdown",
   "metadata": {},
   "source": [
    "##### CS.15"
   ]
  },
  {
   "cell_type": "code",
   "execution_count": 2,
   "metadata": {},
   "outputs": [],
   "source": [
    "import PIL.Image\n",
    "\n",
    "def crop(im,box):\n",
    "    x1,y1,x2,y2=box\n",
    "    width,height=x2-x1,y2-y1\n",
    "    im_new=PIL.Image.new(im.mode,(width,height))\n",
    "    for i in range(width):\n",
    "        for j in range(height):\n",
    "            pix=im.getpixel((x1+i,y1+j))\n",
    "            im_new.putpixel((i,j),pix)\n",
    "    return im_new\n",
    "\n",
    "if __name__=='__main__':\n",
    "    im=PIL.Image.open('D:/20212022s/objectoriented2022/0309/1.png')\n",
    "    newwidth, newheight = im.size\n",
    "    box=0,0,int(0.6*newwidth),int(0.6*newheight)\n",
    "    crop(im,box).show()\n"
   ]
  },
  {
   "cell_type": "markdown",
   "metadata": {},
   "source": [
    "##### CS.16"
   ]
  },
  {
   "cell_type": "code",
   "execution_count": 3,
   "metadata": {},
   "outputs": [],
   "source": [
    "import PIL.Image\n",
    "def flip(im,orient=\"CC\"):\n",
    "    \n",
    "# 获取閃像的宽度 width 和高度 height， 并创建新图像\n",
    "    width,height = im.size\n",
    "    im_new = PIL.Image.new(im.mode, im.size)\n",
    "#使用铁套循环，把旧图像的像素搭贝到新图像对应位置\n",
    "    for i in range(0, width):\n",
    "        for j in range(0, height):\n",
    "            pixel = im.getpixel((i,j))\n",
    "            if orient==\"CC\":\n",
    "                im_new.putpixel((width-i-1, j), pixel)\n",
    "            else:#族转 180 度时\n",
    "                im_new.putpixel((i,height-j-1), pixel)\n",
    "\n",
    "    return im_new\n",
    "\n",
    "#测试代码\n",
    "if __name__==\"__main__\":\n",
    "    im = PIL.Image.open('D:/20212022s/objectoriented2022/0309/1.png')\n",
    "    flip(im, orient=\"CC\").show()\n",
    "    flip(im, orient=\"V\").show()"
   ]
  },
  {
   "cell_type": "markdown",
   "metadata": {},
   "source": [
    "##### CS.17"
   ]
  },
  {
   "cell_type": "code",
   "execution_count": 4,
   "metadata": {},
   "outputs": [],
   "source": [
    "import PIL.Image\n",
    "def rotate(im,orient=\"CC\"): \n",
    "# 获取閃像的宽度 width和高度 height，并创建新图像\n",
    "    width,height = im.size\n",
    "    im_new = PIL.Image.new(im.mode, (height,width))\n",
    "#使用铁套循环，把旧图像的像素搭贝到新图像对应位置\n",
    "    for i in range(0, width):\n",
    "        for j in range(0, height):\n",
    "            pixel = im.getpixel((i,j))\n",
    "            if orient==\"CC\":\n",
    "                im_new.putpixel((j,width-i-1), pixel)\n",
    "            else:#族转 180 度时\n",
    "                im_new.putpixel((height-j-1,i), pixel)\n",
    "    return im_new\n",
    "\n",
    "#测试代码\n",
    "if __name__==\"__main__\":\n",
    "    im = PIL.Image.open('D:/20212022s/objectoriented2022/0309/1.png')\n",
    "    rotate(im, orient=\"CC\").show()"
   ]
  },
  {
   "cell_type": "code",
   "execution_count": 13,
   "metadata": {},
   "outputs": [],
   "source": [
    "from PIL import Image\n",
    " \n",
    "# 加载原始图片\n",
    "img = Image.open(\"D:/20212022s/objectoriented2022/0309/1.png\")\n",
    " \n",
    "# 逆时针方向旋转\n",
    "img2 = img.rotate(90,expand=True)\n",
    "img2.show()"
   ]
  },
  {
   "cell_type": "markdown",
   "metadata": {},
   "source": [
    "##### CS.18"
   ]
  },
  {
   "cell_type": "code",
   "execution_count": 6,
   "metadata": {},
   "outputs": [],
   "source": [
    "import PIL.Image\n",
    "def smooth(im,orient=\"CC\"): \n",
    "    width,height = im.size\n",
    "    im_new = PIL.Image.new(im.mode, im.size)\n",
    "    for i in range(0, width):\n",
    "        for j in range(0, height):\n",
    "            pixel=[0,0,0,0]\n",
    "            pixel[0] =int((im.getpixel((i,j))[0]+im.getpixel((max(i-1,0),j))[0]+im.getpixel((min(i+1,0),j))[0]+im.getpixel((i,max(j-1,0)))[0]+im.getpixel((i,min(j+1,0)))[0]+im.getpixel((min(i+1,0),min(j+1,0)))[0]+im.getpixel((min(i+1,0),max(j-1,0)))[0]+im.getpixel((max(i-1,0),max(j-1,0)))[0]+im.getpixel((max(i-1,0),min(j+1,0)))[0])/9)\n",
    "            pixel[1] =int((im.getpixel((i,j))[1]+im.getpixel((max(i-1,0),j))[1]+im.getpixel((min(i+1,0),j))[1]+im.getpixel((i,max(j-1,0)))[1]+im.getpixel((i,min(j+1,0)))[1]+im.getpixel((min(i+1,0),min(j+1,0)))[1]+im.getpixel((min(i+1,0),max(j-1,0)))[1]+im.getpixel((max(i-1,0),max(j-1,0)))[1]+im.getpixel((max(i-1,0),min(j+1,0)))[1])/9)\n",
    "            pixel[2] =int((im.getpixel((i,j))[2]+im.getpixel((max(i-1,0),j))[2]+im.getpixel((min(i+1,0),j))[2]+im.getpixel((i,max(j-1,0)))[2]+im.getpixel((i,min(j+1,0)))[2]+im.getpixel((min(i+1,0),min(j+1,0)))[2]+im.getpixel((min(i+1,0),max(j-1,0)))[2]+im.getpixel((max(i-1,0),max(j-1,0)))[2]+im.getpixel((max(i-1,0),min(j+1,0)))[2])/9)\n",
    "            pixel[3] =int((im.getpixel((i,j))[3]+im.getpixel((max(i-1,0),j))[3]+im.getpixel((min(i+1,0),j))[3]+im.getpixel((i,max(j-1,0)))[3]+im.getpixel((i,min(j+1,0)))[3]+im.getpixel((min(i+1,0),min(j+1,0)))[3]+im.getpixel((min(i+1,0),max(j-1,0)))[3]+im.getpixel((max(i-1,0),max(j-1,0)))[3]+im.getpixel((max(i-1,0),min(j+1,0)))[3])/9)\n",
    "            pixel=tuple(pixel)\n",
    "            if orient==\"CC\":\n",
    "                im_new.putpixel((i,j), pixel)\n",
    "            else:#族转 180 度时\n",
    "                im_new.putpixel((i,j), pixel)\n",
    "    return im_new\n",
    "\n",
    "#测试代码\n",
    "if __name__==\"__main__\":\n",
    "    im = PIL.Image.open('D:/20212022s/objectoriented2022/0309/1.png')\n",
    "    smooth(im, orient=\"CC\").show()"
   ]
  }
 ],
 "metadata": {
  "interpreter": {
   "hash": "73e03da126b73bfff3642ec5261d56fa25c444ea595de51041687efaa60dda41"
  },
  "kernelspec": {
   "display_name": "Python 3.9.7 ('base')",
   "language": "python",
   "name": "python3"
  },
  "language_info": {
   "codemirror_mode": {
    "name": "ipython",
    "version": 3
   },
   "file_extension": ".py",
   "mimetype": "text/x-python",
   "name": "python",
   "nbconvert_exporter": "python",
   "pygments_lexer": "ipython3",
   "version": "3.9.7"
  },
  "orig_nbformat": 4
 },
 "nbformat": 4,
 "nbformat_minor": 2
}
