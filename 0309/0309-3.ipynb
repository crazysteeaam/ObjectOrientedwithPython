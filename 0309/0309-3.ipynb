{
 "cells": [
  {
   "cell_type": "code",
   "execution_count": 2,
   "metadata": {},
   "outputs": [
    {
     "name": "stdout",
     "output_type": "stream",
     "text": [
      "12\n"
     ]
    }
   ],
   "source": [
    "num=input(\"请输入一个自然数:\")\n",
    "print(sum(map(int,num)))\n",
    "#输入1245"
   ]
  },
  {
   "cell_type": "code",
   "execution_count": 2,
   "metadata": {},
   "outputs": [
    {
     "name": "stdout",
     "output_type": "stream",
     "text": [
      "交集: {1, 5, 7}\n",
      "并集: {1, 4, 5, 7, 8, 9}\n",
      "setA-setB: {8, 9}\n"
     ]
    }
   ],
   "source": [
    "setA=eval(input(\"请输入一个集合:\"))\n",
    "setB=eval(input(\"再输入一个集合:\"))\n",
    "print(\"交集:\",setA & setB)\n",
    "print(\"并集:\",setA | setB)\n",
    "print(\"setA-setB:\",setA-setB)\n",
    "#输入集合{1,4,5,7}和{1,5,7,8,9}"
   ]
  },
  {
   "cell_type": "code",
   "execution_count": 3,
   "metadata": {},
   "outputs": [
    {
     "name": "stdout",
     "output_type": "stream",
     "text": [
      "二进制： 0b10110110001\n",
      "八进制： 0o2661\n",
      "十进制： 0x5b1\n"
     ]
    }
   ],
   "source": [
    "num=int(input(\"请输入一个自然数：\"))\n",
    "print(\"二进制：\",bin(num))\n",
    "print(\"八进制：\",oct(num))\n",
    "print(\"十进制：\",hex(num))\n",
    "#输入1457"
   ]
  },
  {
   "cell_type": "code",
   "execution_count": 4,
   "metadata": {},
   "outputs": [
    {
     "name": "stdout",
     "output_type": "stream",
     "text": [
      "[8]\n"
     ]
    }
   ],
   "source": [
    "lst=input(\"请输入一个包含若干整数的列表\")\n",
    "lst=eval(lst)\n",
    "print(list(filter(lambda x:x%2==0,lst)))\n",
    "#输入[1,3,5,7,8]"
   ]
  },
  {
   "cell_type": "code",
   "execution_count": 7,
   "metadata": {},
   "outputs": [
    {
     "name": "stdout",
     "output_type": "stream",
     "text": [
      "{1: 2, 4: 5, 6: 7}\n"
     ]
    }
   ],
   "source": [
    "lstA=eval(input(\"请输入包含若干整数的列表lstA:\"))\n",
    "lstB=eval(input(\"请输入包含若干整数的列表lstB:\"))\n",
    "result=dict(zip(lstA,lstB))\n",
    "print(result)\n",
    "#输入[1,4,7] & [2,5,8]"
   ]
  },
  {
   "cell_type": "code",
   "execution_count": 8,
   "metadata": {},
   "outputs": [
    {
     "name": "stdout",
     "output_type": "stream",
     "text": [
      "[7, 4, 1]\n"
     ]
    }
   ],
   "source": [
    "lst=eval(input(\"请输入包含若干整数的列表lst:\"))\n",
    "print(sorted(lst,reverse=True))\n",
    "#输入[1,4,7]"
   ]
  },
  {
   "cell_type": "code",
   "execution_count": 6,
   "metadata": {},
   "outputs": [
    {
     "name": "stdout",
     "output_type": "stream",
     "text": [
      "15\n"
     ]
    }
   ],
   "source": [
    "from functools import reduce\n",
    "lst=eval(input(\"请输入包含若干整数的列表Lst\"))\n",
    "print(reduce(lambda x,y:x*y,lst))\n",
    "#输入[1,3,5]"
   ]
  },
  {
   "cell_type": "code",
   "execution_count": 9,
   "metadata": {},
   "outputs": [
    {
     "name": "stdout",
     "output_type": "stream",
     "text": [
      "8\n"
     ]
    }
   ],
   "source": [
    "lstA=eval(input(\"请输入包含若干2个整数的列表lstA:\"))\n",
    "lstB=eval(input(\"请输入包含若干2个整数的列表lstB:\"))\n",
    "print(sum(map(lambda i,j:abs(i-j),lstA,lstB)))\n",
    "#输入[1,4] & [5,8]"
   ]
  },
  {
   "cell_type": "code",
   "execution_count": 5,
   "metadata": {},
   "outputs": [
    {
     "name": "stdout",
     "output_type": "stream",
     "text": [
      "{1, 2, 3, 4, 5, 6}\n"
     ]
    }
   ],
   "source": [
    "from functools import reduce\n",
    "lstSets=eval(input(\"请输入包含若干集合的列表:\"))\n",
    "print(reduce(lambda x,y:x|y,lstSets))\n",
    "#输入 [{1,3,5},{2,4,6},{1,2,3,4,5,6}]"
   ]
  },
  {
   "cell_type": "code",
   "execution_count": 7,
   "metadata": {},
   "outputs": [
    {
     "name": "stdout",
     "output_type": "stream",
     "text": [
      "4882812\n"
     ]
    }
   ],
   "source": [
    "a1=int(input(\"请输入等比数列首项：\"))\n",
    "q=int(input(\"请输入等比数列公比（不等于1且小于36的整数）:\"))\n",
    "n=int(input(\"请输入一个自然数：\"))\n",
    "result=a1*int('1'*n,q)\n",
    "print(result)\n",
    "#输入a1=2 q=5 n=10"
   ]
  },
  {
   "cell_type": "code",
   "execution_count": 1,
   "metadata": {},
   "outputs": [
    {
     "name": "stdout",
     "output_type": "stream",
     "text": [
      "('a', 2)\n"
     ]
    }
   ],
   "source": [
    "data=input(\"请输入一个字符串：\")\n",
    "d=dict()\n",
    "for ch in data:\n",
    "    d[ch]=d.get(ch,0)+1\n",
    "mostComnon=max(d.items(),key=lambda item:item[1])\n",
    "print(mostComnon)\n",
    "#输入'ioahoieth'"
   ]
  }
 ],
 "metadata": {
  "interpreter": {
   "hash": "73e03da126b73bfff3642ec5261d56fa25c444ea595de51041687efaa60dda41"
  },
  "kernelspec": {
   "display_name": "Python 3.9.7 ('base')",
   "language": "python",
   "name": "python3"
  },
  "language_info": {
   "codemirror_mode": {
    "name": "ipython",
    "version": 3
   },
   "file_extension": ".py",
   "mimetype": "text/x-python",
   "name": "python",
   "nbconvert_exporter": "python",
   "pygments_lexer": "ipython3",
   "version": "3.9.7"
  },
  "orig_nbformat": 4
 },
 "nbformat": 4,
 "nbformat_minor": 2
}
