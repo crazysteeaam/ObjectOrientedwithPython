{
 "cells": [
  {
   "cell_type": "code",
   "execution_count": 6,
   "metadata": {
    "collapsed": true
   },
   "outputs": [
    {
     "name": "stdout",
     "output_type": "stream",
     "text": [
      "孙坤 {'语文': 78, '英语': 53}\n",
      "赵琛坤 {'语文': 42, '英语': 8, '数学': 98}\n",
      "钱昀艳 {'英语': 91, '数学': 77}\n",
      "李志 {'英语': 95, '语文': 6, '数学': 75}\n",
      "钱琛艳 {'英语': 32}\n",
      "赵志 {'数学': 100, '语文': 78, '英语': 70}\n",
      "赵昀志 {'英语': 97, '数学': 49}\n",
      "钱坤 {'语文': 90, '数学': 86, '英语': 54}\n",
      "李昀艳 {'数学': 55}\n",
      "李坤 {'数学': 59, '英语': 68, '语文': 90}\n",
      "孙伟志 {'语文': 33}\n",
      "钱志 {'英语': 78, '语文': 98, '数学': 99}\n",
      "赵琛艳 {'英语': 90, '数学': 85}\n",
      "钱艳 {'数学': 90, '语文': 99, '英语': 74}\n",
      "李东艳 {'英语': 17, '数学': 98}\n",
      "孙伟艳 {'英语': 92}\n",
      "赵伟艳 {'英语': 85, '语文': 100}\n",
      "孙伟坤 {'英语': 29, '数学': 5}\n",
      "钱伟志 {'英语': 49, '数学': 66, '语文': 71}\n",
      "李东坤 {'数学': 66}\n",
      "钱伟艳 {'英语': 100, '语文': 80}\n",
      "孙艳 {'英语': 73, '语文': 81, '数学': 67}\n",
      "孙志 {'语文': 81, '数学': 85, '英语': 89}\n",
      "孙琛坤 {'语文': 84, '数学': 58, '英语': 64}\n",
      "孙琛志 {'数学': 12, '语文': 90}\n",
      "孙昀坤 {'英语': 46, '语文': 80}\n",
      "赵东艳 {'英语': 42, '语文': 12, '数学': 81}\n",
      "李艳 {'数学': 69}\n",
      "赵坤 {'数学': 87, '英语': 91, '语文': 26}\n",
      "孙琛艳 {'英语': 93}\n",
      "钱伟坤 {'英语': 95, '数学': 71, '语文': 43}\n",
      "钱东志 {'英语': 41}\n",
      "钱琛志 {'数学': 14, '英语': 79}\n",
      "钱琛坤 {'语文': 15, '英语': 8}\n",
      "孙东艳 {'英语': 92}\n",
      "李伟坤 {'数学': 92, '语文': 41}\n",
      "赵艳 {'语文': 61, '英语': 90}\n",
      "钱东坤 {'数学': 58}\n",
      "孙东志 {'英语': 32, '语文': 23}\n",
      "李昀志 {'数学': 93}\n",
      "李昀坤 {'英语': 19, '语文': 49}\n",
      "钱东艳 {'数学': 28, '英语': 54}\n",
      "李琛艳 {'英语': 10}\n",
      "赵伟志 {'英语': 79}\n",
      "孙昀艳 {'语文': 41}\n",
      "李琛志 {'英语': 23, '数学': 57}\n",
      "赵东坤 {'语文': 68}\n",
      "赵伟坤 {'语文': 81}\n",
      "孙东坤 {'数学': 92}\n",
      "赵昀坤 {'语文': 97, '英语': 49}\n",
      "钱昀坤 {'语文': 57}\n",
      "李伟艳 {'语文': 65}\n",
      "赵琛志 {'英语': 70}\n",
      "李东志 {'英语': 33}\n"
     ]
    }
   ],
   "source": [
    "from random import choice, randint\n",
    "from openpyxl import Workbook, load_workbook\n",
    "\n",
    "\n",
    "def generateRandomInformation(filename):\n",
    "    workbook = Workbook()\n",
    "    worksheet = workbook.worksheets[0]\n",
    "    worksheet.append(['姓名', '课程', '成绩'])\n",
    "\n",
    "    first = \"赵钱孙李\"\n",
    "    middle = \"伟昀琛东\"\n",
    "    last = \"坤艳志\"\n",
    "    subjects = ('语文', '数学', '英语')\n",
    "    for i in range(200):\n",
    "        name = choice(first)\n",
    "        if randint(1, 100) > 50:\n",
    "            name = name + choice(middle)\n",
    "        name = name + choice(last)\n",
    "        worksheet.append([name, choice(subjects), randint(0, 100)])\n",
    "    workbook.save(filename)\n",
    "\n",
    "\n",
    "def getResult(oldfile, newfile):\n",
    "    result = dict()\n",
    "    workbook = load_workbook(oldfile)\n",
    "    worksheet = workbook.worksheets[0]\n",
    "    for row in worksheet.rows:\n",
    "        if row[0].value == \"姓名\":\n",
    "            continue\n",
    "        name, subject, grade = map(lambda cell: cell.value, row)\n",
    "\n",
    "        t = result.get(name, {})\n",
    "        f = t.get(subject, 0)\n",
    "        if grade > f:\n",
    "            t[subject] = grade\n",
    "            result[name] = t\n",
    "    workbook1 = Workbook()\n",
    "    worksheet1 = workbook1.worksheets[0]\n",
    "    worksheet1.append(['姓名', '课程', '成绩'])\n",
    "    for name, t in result.items():\n",
    "        print(name, t)\n",
    "        for subject, grade in t.items():\n",
    "            worksheet1.append([name, subject, grade])\n",
    "        workbook1.save(newfile)\n",
    "\n",
    "\n",
    "if __name__=='__main__':\n",
    "    oldfile = r'd:\\20212022s\\objectoriented2022\\0316\\test.xlsx'\n",
    "    newfile = r'd:\\20212022s\\objectoriented2022\\0316\\result.xlsx'\n",
    "    generateRandomInformation(oldfile)\n",
    "    getResult(oldfile, newfile)"
   ]
  },
  {
   "cell_type": "code",
   "execution_count": 4,
   "outputs": [
    {
     "name": "stdout",
     "output_type": "stream",
     "text": [
      "==============================\n"
     ]
    }
   ],
   "source": [
    "from random import randrange\n",
    "def init():\n",
    "    result={i:'goat' for i in range(3)}\n",
    "    r=randrange(0,3,1)\n",
    "    result[r]='car'\n",
    "    print(result)\n",
    "    return result\n",
    "def startGame():\n",
    "    doors=init()\n",
    "    while True:\n",
    "        try:\n",
    "            firstDoorNum=int(input('choose a door to open:'))\n",
    "            assert 0<=firstDoorNum <=2\n",
    "        except:\n",
    "            print(\"Door number must be between {} and {}\".format(0,2))\n",
    "        for door in (doors.keys()-{firstDoorNum}):\n",
    "            if doors[door]=='goat':\n",
    "                print('\"goat\"behind the door',door)\n",
    "            else:     #添加一个else，若开门不是山羊则跳过\n",
    "                continue\n",
    "            thirdDoorNum=(doors.keys()-{door,firstDoorNum}).pop()\n",
    "            change=input('Switch to {}?(y/n)'.format(thirdDoorNum))\n",
    "            finalDoorNum=thirdDoorNum if change=='y' else firstDoorNum\n",
    "            if doors[finalDoorNum]=='goat':\n",
    "                return \"I win！\"\n",
    "            else:\n",
    "                return 'You win!'\n",
    "while True:\n",
    "    print(\"=\"*30)\n",
    "    print(startGame())\n",
    "    r=input(\"Do you want to try once more?(y/n)\")\n",
    "    if r==\"n\":\n",
    "        break"
   ],
   "metadata": {
    "collapsed": false,
    "pycharm": {
     "name": "#%%\n"
    }
   }
  },
  {
   "cell_type": "code",
   "execution_count": 2,
   "outputs": [
    {
     "name": "stdout",
     "output_type": "stream",
     "text": [
      "6789\n"
     ]
    }
   ],
   "source": [
    "number=str(input(\"输入明文:\"))\n",
    "result=''\n",
    "for i in number:\n",
    "    result=result+str((int(i)+5)%10)\n",
    "print(result)"
   ],
   "metadata": {
    "collapsed": false,
    "pycharm": {
     "name": "#%%\n"
    }
   }
  },
  {
   "cell_type": "code",
   "execution_count": null,
   "outputs": [],
   "source": [
    "import sys\n",
    "f=open(sys.argv[0],\"w\")\n",
    "f.write('123')"
   ],
   "metadata": {
    "collapsed": false,
    "pycharm": {
     "name": "#%%\n",
     "is_executing": true
    }
   }
  },
  {
   "cell_type": "code",
   "execution_count": null,
   "outputs": [],
   "source": [],
   "metadata": {
    "collapsed": false,
    "pycharm": {
     "name": "#%%\n"
    }
   }
  }
 ],
 "metadata": {
  "kernelspec": {
   "display_name": "Python 3",
   "language": "python",
   "name": "python3"
  },
  "language_info": {
   "codemirror_mode": {
    "name": "ipython",
    "version": 2
   },
   "file_extension": ".py",
   "mimetype": "text/x-python",
   "name": "python",
   "nbconvert_exporter": "python",
   "pygments_lexer": "ipython2",
   "version": "2.7.6"
  }
 },
 "nbformat": 4,
 "nbformat_minor": 0
}