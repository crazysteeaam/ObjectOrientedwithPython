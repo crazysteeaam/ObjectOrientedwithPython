{
 "cells": [
  {
   "cell_type": "code",
   "execution_count": 13,
   "metadata": {
    "collapsed": true,
    "pycharm": {
     "name": "#%%\n"
    }
   },
   "outputs": [
    {
     "data": {
      "text/plain": "[('91',\n  '//s3plus.meituan.net/v1/mss_e2821d7f0cfe4ac1bf9202ecf9590e67/cdn-prod/file:5788b470/image/loading_2.e3d934bf.png',\n  '十二怒汉',\n  '\\n                主演：亨利·方达,李·科布,马丁·鲍尔萨姆\\n        ',\n  '上映时间：1957-04-13(美国)',\n  '9.',\n  '1')]"
     },
     "execution_count": 13,
     "metadata": {},
     "output_type": "execute_result"
    }
   ],
   "source": [
    "import re\n",
    "import requests\n",
    "\n",
    "pattern = re.compile('<dd>.*?board-index.*?>(\\d+)</i>'\n",
    "                     + '.*?<img.+?src=\"(.+?)\"'\n",
    "                     + '.*?<p class=\"name\"><a.*?\">(.+?)</a>'\n",
    "                     + '.*?<p class=\"star\">(.+?)</p>'\n",
    "                     + '.*?<p class=\"releasetime\">(.+?)</p>'\n",
    "                     + '.*?<p class=\"score\"><i class=\"integer\">(.+?)</i>'\n",
    "                     + '.*?<i class=\"fraction\">(.*?)</i>.*?</dd>'\n",
    "                     , re.S)\n",
    "data = '''<dd>\n",
    "                        <i class=\"board-index board-index-91\">91</i>\n",
    "    <a href=\"/films/2049\" title=\"十二怒汉\" class=\"image-link\" data-act=\"boarditem-click\" data-val=\"{movieId:2049}\">\n",
    "      <img src=\"//s3plus.meituan.net/v1/mss_e2821d7f0cfe4ac1bf9202ecf9590e67/cdn-prod/file:5788b470/image/loading_2.e3d934bf.png\" alt=\"\" class=\"poster-default\" />\n",
    "      <img data-src=\"https://p0.pipi.cn/mmdb/d2dad592c7e7e157e257e2f58c70592a633f8.jpg?imageView2/1/w/160/h/220\" alt=\"十二怒汉\" class=\"board-img\" />\n",
    "    </a>\n",
    "    <div class=\"board-item-main\">\n",
    "      <div class=\"board-item-content\">\n",
    "              <div class=\"movie-item-info\">\n",
    "        <p class=\"name\"><a href=\"/films/2049\" title=\"十二怒汉\" data-act=\"boarditem-click\" data-val=\"{movieId:2049}\">十二怒汉</a></p>\n",
    "        <p class=\"star\">\n",
    "                主演：亨利·方达,李·科布,马丁·鲍尔萨姆\n",
    "        </p>\n",
    "<p class=\"releasetime\">上映时间：1957-04-13(美国)</p>    </div>\n",
    "    <div class=\"movie-item-number score-num\">\n",
    "<p class=\"score\"><i class=\"integer\">9.</i><i class=\"fraction\">1</i></p>\n",
    "    </div>\n",
    "\n",
    "      </div>\n",
    "    </div>\n",
    "\n",
    "                </dd>'''\n",
    "re.findall(pattern, data)"
   ]
  },
  {
   "cell_type": "code",
   "execution_count": 17,
   "outputs": [
    {
     "name": "stdout",
     "output_type": "stream",
     "text": [
      "<!DOCTYPE html><html lang=en><head><meta charset=utf-8><link href=//p0.meituan.net rel=dns-prefetch><link href=//p1.meituan.net rel=dns-prefetch><link href=//s3plus.meituan.net rel=dns-prefetch><title>猫眼验证中心</title><meta name=keywords content=\"猫眼验证中心\"><meta name=description content=\"猫眼验证中心\"><meta name=applicable-device content=mobile><meta name=viewport content=\"width=device-width,initial-scale=1,user-scalable=no\"><meta name=format-detection content=\"telephone=no\"><meta name=format-detection content=\"address=no\"><meta name=for content=maoyan.com><link rel=icon href=https://e.pipi.cn/overseas/faviconmy.ico type=image/x-icon><script src=https://e.pipi.cn/overseas/polyfill.min.js></script><script>var AppData= {\"redirectUrl\":\"\",\"domain\":\"\",\"project\":\"verify\",\"env\":\"prod\"}</script><script crossorigin=anonymous src=//www.dpfile.com/app/owl/static/owl_latest.js></script><script>\"use strict\";!function(){var e=0<arguments.length&&void 0!==arguments[0]?arguments[0]:\"_Owl_\",t=window;t[e]||(t[e]={isRunning:!1,isReady:!1,preTasks:[],dataSet:[],pageData:[],disableMutaObserver:!1,observer:null,use:function(e,i){this.isReady&&t.Owl&&t.Owl[e](i),this.preTasks.push({api:e,data:[i]})},add:function(e){this.dataSet.push(e)},run:function(){var e=this;if(!this.isRunning){this.isRunning=!0;var i=t.onerror;t.onerror=function(){this.isReady||this.add({type:\"jsError\",data:arguments}),i&&i.apply(t,arguments)}.bind(this),(t.addEventListener||t.attachEvent)(\"error\",(function(t){e.isReady||e.add({type:\"resError\",data:[t]})}),!0);var r=window.MutationObserver||window.WebKitMutationObserver||window.MozMutationObserver,n=window.performance||window.WebKitPerformance;if(r&&n){var s=-1,a=window.navigator.userAgent;if(-1<a.indexOf(\"compatible\")&&-1<a.indexOf(\"MSIE\")?(new RegExp(\"MSIE (\\\\d+\\\\.\\\\d+);\").test(a),s=parseFloat(RegExp.$1)):-1<a.indexOf(\"Trident\")&&-1<a.indexOf(\"rv:11.0\")&&(s=11),-1!==s&&s<=11)return void(this.disableMutaObserver=!0);try{this.observer=new r((function(t){e.pageData.push({mutations:t,startTime:n.now()})})),this.observer.observe(document,{childList:!0,subtree:!0})}catch(i){console.log(\"mutationObserver err\")}}else this.disableMutaObserver=!0}}},t[e].run())}()</script><script crossorigin=anonymous src=https://obj.pipi.cn/festatic/basicdata_mac/md/yao-0.0.10.js></script><script>Yao.start({project:\"yamaha\",page:{sample:1}})</script><script>var isDevMode=JSON.parse(\"false\")</script><script>Owl.start({project:\"com.sankuai.movie.security.yamaha\",pageUrl:location.origin+location.pathname,resource:{},devMode:isDevMode,autoCatch:{console:!0}})</script><link href=/yamaha/public/css/verify.07561394.css rel=stylesheet></head><body><div id=app></div><script src=//s0.meituan.net/bs/knb/v1.8.3/knb.js crossorigin=anonymous></script><script type=text/javascript src=/yamaha/public/js/verify.6b990b.js></script></body></html> ...\n"
     ]
    }
   ],
   "source": [
    "from requests_html import HTMLSession\n",
    "\n",
    "if __name__ == '__main__':\n",
    "    url = 'https://www.maoyan.com/board/4?timeStamp=1653289590173&channelId=40011&index=3&signKey=ea984a99fe06fdf71a5fec5324d12bc0&sVersion=1&webdriver=false'\n",
    "    session = HTMLSession()  # 获取实例化session对象\n",
    "    r = session.get(url)  # 这里的请求和requests的几乎一样！同样可以根据需要添加headers等参数\n",
    "\n",
    "    # 获取html页面\n",
    "    # html = r.content.decode()  # requests方式\n",
    "    get_html = r.html.html  # requests_html中的方法\n",
    "    print(get_html[:3000], '...')"
   ],
   "metadata": {
    "collapsed": false,
    "pycharm": {
     "name": "#%%\n"
    }
   }
  },
  {
   "cell_type": "code",
   "execution_count": null,
   "outputs": [
    {
     "ename": "WebDriverException",
     "evalue": "Message: chrome not reachable\n  (Session info: chrome=100.0.4896.75)\nStacktrace:\nBacktrace:\n\tOrdinal0 [0x007B7413+2389011]\n\tOrdinal0 [0x00749F61+1941345]\n\tOrdinal0 [0x0063C520+836896]\n\tOrdinal0 [0x00630682+788098]\n\tOrdinal0 [0x00630EB8+790200]\n\tOrdinal0 [0x00632752+796498]\n\tOrdinal0 [0x0062C0D9+770265]\n\tOrdinal0 [0x0063D9D0+842192]\n\tOrdinal0 [0x00693AE2+1194722]\n\tOrdinal0 [0x00683F66+1130342]\n\tOrdinal0 [0x0065E546+976198]\n\tOrdinal0 [0x0065F456+980054]\n\tGetHandleVerifier [0x00969632+1727522]\n\tGetHandleVerifier [0x00A1BA4D+2457661]\n\tGetHandleVerifier [0x0084EB81+569713]\n\tGetHandleVerifier [0x0084DD76+566118]\n\tOrdinal0 [0x00750B2B+1968939]\n\tOrdinal0 [0x00755988+1989000]\n\tOrdinal0 [0x00755A75+1989237]\n\tOrdinal0 [0x0075ECB1+2026673]\n\tBaseThreadInitThunk [0x76787BA9+25]\n\tRtlInitializeExceptionChain [0x779FB7DB+107]\n\tRtlClearBits [0x779FB75F+191]\n",
     "output_type": "error",
     "traceback": [
      "\u001B[1;31m---------------------------------------------------------------------------\u001B[0m",
      "\u001B[1;31mWebDriverException\u001B[0m                        Traceback (most recent call last)",
      "\u001B[1;32m~\\AppData\\Local\\Temp/ipykernel_10668/3232734327.py\u001B[0m in \u001B[0;36m<module>\u001B[1;34m\u001B[0m\n\u001B[0;32m     10\u001B[0m     \u001B[0mdriver\u001B[0m\u001B[1;33m.\u001B[0m\u001B[0msave_screenshot\u001B[0m\u001B[1;33m(\u001B[0m\u001B[1;34m'quekou.png'\u001B[0m\u001B[1;33m)\u001B[0m\u001B[1;33m\u001B[0m\u001B[1;33m\u001B[0m\u001B[0m\n\u001B[0;32m     11\u001B[0m \u001B[1;33m\u001B[0m\u001B[0m\n\u001B[1;32m---> 12\u001B[1;33m \u001B[0mget_pic\u001B[0m\u001B[1;33m(\u001B[0m\u001B[1;34m\"http://maoyan.com/board/4?offset=0\"\u001B[0m\u001B[1;33m)\u001B[0m\u001B[1;33m\u001B[0m\u001B[1;33m\u001B[0m\u001B[0m\n\u001B[0m",
      "\u001B[1;32m~\\AppData\\Local\\Temp/ipykernel_10668/3232734327.py\u001B[0m in \u001B[0;36mget_pic\u001B[1;34m(url)\u001B[0m\n\u001B[0;32m      8\u001B[0m     \u001B[0mdriver\u001B[0m\u001B[1;33m.\u001B[0m\u001B[0mget\u001B[0m\u001B[1;33m(\u001B[0m\u001B[0murl\u001B[0m\u001B[1;33m)\u001B[0m\u001B[1;33m\u001B[0m\u001B[1;33m\u001B[0m\u001B[0m\n\u001B[0;32m      9\u001B[0m     \u001B[0mtime\u001B[0m\u001B[1;33m.\u001B[0m\u001B[0msleep\u001B[0m\u001B[1;33m(\u001B[0m\u001B[1;36m1000\u001B[0m\u001B[1;33m)\u001B[0m\u001B[1;33m\u001B[0m\u001B[1;33m\u001B[0m\u001B[0m\n\u001B[1;32m---> 10\u001B[1;33m     \u001B[0mdriver\u001B[0m\u001B[1;33m.\u001B[0m\u001B[0msave_screenshot\u001B[0m\u001B[1;33m(\u001B[0m\u001B[1;34m'quekou.png'\u001B[0m\u001B[1;33m)\u001B[0m\u001B[1;33m\u001B[0m\u001B[1;33m\u001B[0m\u001B[0m\n\u001B[0m\u001B[0;32m     11\u001B[0m \u001B[1;33m\u001B[0m\u001B[0m\n\u001B[0;32m     12\u001B[0m \u001B[0mget_pic\u001B[0m\u001B[1;33m(\u001B[0m\u001B[1;34m\"http://maoyan.com/board/4?offset=0\"\u001B[0m\u001B[1;33m)\u001B[0m\u001B[1;33m\u001B[0m\u001B[1;33m\u001B[0m\u001B[0m\n",
      "\u001B[1;32mD:\\ProgramData\\Anaconda3\\lib\\site-packages\\selenium\\webdriver\\remote\\webdriver.py\u001B[0m in \u001B[0;36msave_screenshot\u001B[1;34m(self, filename)\u001B[0m\n\u001B[0;32m   1345\u001B[0m                 \u001B[0mdriver\u001B[0m\u001B[1;33m.\u001B[0m\u001B[0msave_screenshot\u001B[0m\u001B[1;33m(\u001B[0m\u001B[1;34m'/Screenshots/foo.png'\u001B[0m\u001B[1;33m)\u001B[0m\u001B[1;33m\u001B[0m\u001B[1;33m\u001B[0m\u001B[0m\n\u001B[0;32m   1346\u001B[0m         \"\"\"\n\u001B[1;32m-> 1347\u001B[1;33m         \u001B[1;32mreturn\u001B[0m \u001B[0mself\u001B[0m\u001B[1;33m.\u001B[0m\u001B[0mget_screenshot_as_file\u001B[0m\u001B[1;33m(\u001B[0m\u001B[0mfilename\u001B[0m\u001B[1;33m)\u001B[0m\u001B[1;33m\u001B[0m\u001B[1;33m\u001B[0m\u001B[0m\n\u001B[0m\u001B[0;32m   1348\u001B[0m \u001B[1;33m\u001B[0m\u001B[0m\n\u001B[0;32m   1349\u001B[0m     \u001B[1;32mdef\u001B[0m \u001B[0mget_screenshot_as_png\u001B[0m\u001B[1;33m(\u001B[0m\u001B[0mself\u001B[0m\u001B[1;33m)\u001B[0m \u001B[1;33m->\u001B[0m \u001B[0mbytes\u001B[0m\u001B[1;33m:\u001B[0m\u001B[1;33m\u001B[0m\u001B[1;33m\u001B[0m\u001B[0m\n",
      "\u001B[1;32mD:\\ProgramData\\Anaconda3\\lib\\site-packages\\selenium\\webdriver\\remote\\webdriver.py\u001B[0m in \u001B[0;36mget_screenshot_as_file\u001B[1;34m(self, filename)\u001B[0m\n\u001B[0;32m   1320\u001B[0m             warnings.warn(\"name used for saved screenshot does not match file \"\n\u001B[0;32m   1321\u001B[0m                           \"type. It should end with a `.png` extension\", UserWarning)\n\u001B[1;32m-> 1322\u001B[1;33m         \u001B[0mpng\u001B[0m \u001B[1;33m=\u001B[0m \u001B[0mself\u001B[0m\u001B[1;33m.\u001B[0m\u001B[0mget_screenshot_as_png\u001B[0m\u001B[1;33m(\u001B[0m\u001B[1;33m)\u001B[0m\u001B[1;33m\u001B[0m\u001B[1;33m\u001B[0m\u001B[0m\n\u001B[0m\u001B[0;32m   1323\u001B[0m         \u001B[1;32mtry\u001B[0m\u001B[1;33m:\u001B[0m\u001B[1;33m\u001B[0m\u001B[1;33m\u001B[0m\u001B[0m\n\u001B[0;32m   1324\u001B[0m             \u001B[1;32mwith\u001B[0m \u001B[0mopen\u001B[0m\u001B[1;33m(\u001B[0m\u001B[0mfilename\u001B[0m\u001B[1;33m,\u001B[0m \u001B[1;34m'wb'\u001B[0m\u001B[1;33m)\u001B[0m \u001B[1;32mas\u001B[0m \u001B[0mf\u001B[0m\u001B[1;33m:\u001B[0m\u001B[1;33m\u001B[0m\u001B[1;33m\u001B[0m\u001B[0m\n",
      "\u001B[1;32mD:\\ProgramData\\Anaconda3\\lib\\site-packages\\selenium\\webdriver\\remote\\webdriver.py\u001B[0m in \u001B[0;36mget_screenshot_as_png\u001B[1;34m(self)\u001B[0m\n\u001B[0;32m   1356\u001B[0m                 \u001B[0mdriver\u001B[0m\u001B[1;33m.\u001B[0m\u001B[0mget_screenshot_as_png\u001B[0m\u001B[1;33m(\u001B[0m\u001B[1;33m)\u001B[0m\u001B[1;33m\u001B[0m\u001B[1;33m\u001B[0m\u001B[0m\n\u001B[0;32m   1357\u001B[0m         \"\"\"\n\u001B[1;32m-> 1358\u001B[1;33m         \u001B[1;32mreturn\u001B[0m \u001B[0mb64decode\u001B[0m\u001B[1;33m(\u001B[0m\u001B[0mself\u001B[0m\u001B[1;33m.\u001B[0m\u001B[0mget_screenshot_as_base64\u001B[0m\u001B[1;33m(\u001B[0m\u001B[1;33m)\u001B[0m\u001B[1;33m.\u001B[0m\u001B[0mencode\u001B[0m\u001B[1;33m(\u001B[0m\u001B[1;34m'ascii'\u001B[0m\u001B[1;33m)\u001B[0m\u001B[1;33m)\u001B[0m\u001B[1;33m\u001B[0m\u001B[1;33m\u001B[0m\u001B[0m\n\u001B[0m\u001B[0;32m   1359\u001B[0m \u001B[1;33m\u001B[0m\u001B[0m\n\u001B[0;32m   1360\u001B[0m     \u001B[1;32mdef\u001B[0m \u001B[0mget_screenshot_as_base64\u001B[0m\u001B[1;33m(\u001B[0m\u001B[0mself\u001B[0m\u001B[1;33m)\u001B[0m \u001B[1;33m->\u001B[0m \u001B[0mstr\u001B[0m\u001B[1;33m:\u001B[0m\u001B[1;33m\u001B[0m\u001B[1;33m\u001B[0m\u001B[0m\n",
      "\u001B[1;32mD:\\ProgramData\\Anaconda3\\lib\\site-packages\\selenium\\webdriver\\remote\\webdriver.py\u001B[0m in \u001B[0;36mget_screenshot_as_base64\u001B[1;34m(self)\u001B[0m\n\u001B[0;32m   1368\u001B[0m                 \u001B[0mdriver\u001B[0m\u001B[1;33m.\u001B[0m\u001B[0mget_screenshot_as_base64\u001B[0m\u001B[1;33m(\u001B[0m\u001B[1;33m)\u001B[0m\u001B[1;33m\u001B[0m\u001B[1;33m\u001B[0m\u001B[0m\n\u001B[0;32m   1369\u001B[0m         \"\"\"\n\u001B[1;32m-> 1370\u001B[1;33m         \u001B[1;32mreturn\u001B[0m \u001B[0mself\u001B[0m\u001B[1;33m.\u001B[0m\u001B[0mexecute\u001B[0m\u001B[1;33m(\u001B[0m\u001B[0mCommand\u001B[0m\u001B[1;33m.\u001B[0m\u001B[0mSCREENSHOT\u001B[0m\u001B[1;33m)\u001B[0m\u001B[1;33m[\u001B[0m\u001B[1;34m'value'\u001B[0m\u001B[1;33m]\u001B[0m\u001B[1;33m\u001B[0m\u001B[1;33m\u001B[0m\u001B[0m\n\u001B[0m\u001B[0;32m   1371\u001B[0m \u001B[1;33m\u001B[0m\u001B[0m\n\u001B[0;32m   1372\u001B[0m     \u001B[1;32mdef\u001B[0m \u001B[0mset_window_size\u001B[0m\u001B[1;33m(\u001B[0m\u001B[0mself\u001B[0m\u001B[1;33m,\u001B[0m \u001B[0mwidth\u001B[0m\u001B[1;33m,\u001B[0m \u001B[0mheight\u001B[0m\u001B[1;33m,\u001B[0m \u001B[0mwindowHandle\u001B[0m\u001B[1;33m=\u001B[0m\u001B[1;34m'current'\u001B[0m\u001B[1;33m)\u001B[0m \u001B[1;33m->\u001B[0m \u001B[0mdict\u001B[0m\u001B[1;33m:\u001B[0m\u001B[1;33m\u001B[0m\u001B[1;33m\u001B[0m\u001B[0m\n",
      "\u001B[1;32mD:\\ProgramData\\Anaconda3\\lib\\site-packages\\selenium\\webdriver\\remote\\webdriver.py\u001B[0m in \u001B[0;36mexecute\u001B[1;34m(self, driver_command, params)\u001B[0m\n\u001B[0;32m    428\u001B[0m         \u001B[0mresponse\u001B[0m \u001B[1;33m=\u001B[0m \u001B[0mself\u001B[0m\u001B[1;33m.\u001B[0m\u001B[0mcommand_executor\u001B[0m\u001B[1;33m.\u001B[0m\u001B[0mexecute\u001B[0m\u001B[1;33m(\u001B[0m\u001B[0mdriver_command\u001B[0m\u001B[1;33m,\u001B[0m \u001B[0mparams\u001B[0m\u001B[1;33m)\u001B[0m\u001B[1;33m\u001B[0m\u001B[1;33m\u001B[0m\u001B[0m\n\u001B[0;32m    429\u001B[0m         \u001B[1;32mif\u001B[0m \u001B[0mresponse\u001B[0m\u001B[1;33m:\u001B[0m\u001B[1;33m\u001B[0m\u001B[1;33m\u001B[0m\u001B[0m\n\u001B[1;32m--> 430\u001B[1;33m             \u001B[0mself\u001B[0m\u001B[1;33m.\u001B[0m\u001B[0merror_handler\u001B[0m\u001B[1;33m.\u001B[0m\u001B[0mcheck_response\u001B[0m\u001B[1;33m(\u001B[0m\u001B[0mresponse\u001B[0m\u001B[1;33m)\u001B[0m\u001B[1;33m\u001B[0m\u001B[1;33m\u001B[0m\u001B[0m\n\u001B[0m\u001B[0;32m    431\u001B[0m             response['value'] = self._unwrap_value(\n\u001B[0;32m    432\u001B[0m                 response.get('value', None))\n",
      "\u001B[1;32mD:\\ProgramData\\Anaconda3\\lib\\site-packages\\selenium\\webdriver\\remote\\errorhandler.py\u001B[0m in \u001B[0;36mcheck_response\u001B[1;34m(self, response)\u001B[0m\n\u001B[0;32m    245\u001B[0m                 \u001B[0malert_text\u001B[0m \u001B[1;33m=\u001B[0m \u001B[0mvalue\u001B[0m\u001B[1;33m[\u001B[0m\u001B[1;34m'alert'\u001B[0m\u001B[1;33m]\u001B[0m\u001B[1;33m.\u001B[0m\u001B[0mget\u001B[0m\u001B[1;33m(\u001B[0m\u001B[1;34m'text'\u001B[0m\u001B[1;33m)\u001B[0m\u001B[1;33m\u001B[0m\u001B[1;33m\u001B[0m\u001B[0m\n\u001B[0;32m    246\u001B[0m             \u001B[1;32mraise\u001B[0m \u001B[0mexception_class\u001B[0m\u001B[1;33m(\u001B[0m\u001B[0mmessage\u001B[0m\u001B[1;33m,\u001B[0m \u001B[0mscreen\u001B[0m\u001B[1;33m,\u001B[0m \u001B[0mstacktrace\u001B[0m\u001B[1;33m,\u001B[0m \u001B[0malert_text\u001B[0m\u001B[1;33m)\u001B[0m  \u001B[1;31m# type: ignore[call-arg]  # mypy is not smart enough here\u001B[0m\u001B[1;33m\u001B[0m\u001B[1;33m\u001B[0m\u001B[0m\n\u001B[1;32m--> 247\u001B[1;33m         \u001B[1;32mraise\u001B[0m \u001B[0mexception_class\u001B[0m\u001B[1;33m(\u001B[0m\u001B[0mmessage\u001B[0m\u001B[1;33m,\u001B[0m \u001B[0mscreen\u001B[0m\u001B[1;33m,\u001B[0m \u001B[0mstacktrace\u001B[0m\u001B[1;33m)\u001B[0m\u001B[1;33m\u001B[0m\u001B[1;33m\u001B[0m\u001B[0m\n\u001B[0m\u001B[0;32m    248\u001B[0m \u001B[1;33m\u001B[0m\u001B[0m\n\u001B[0;32m    249\u001B[0m     \u001B[1;32mdef\u001B[0m \u001B[0m_value_or_default\u001B[0m\u001B[1;33m(\u001B[0m\u001B[0mself\u001B[0m\u001B[1;33m,\u001B[0m \u001B[0mobj\u001B[0m\u001B[1;33m:\u001B[0m \u001B[0mMapping\u001B[0m\u001B[1;33m[\u001B[0m\u001B[0m_KT\u001B[0m\u001B[1;33m,\u001B[0m \u001B[0m_VT\u001B[0m\u001B[1;33m]\u001B[0m\u001B[1;33m,\u001B[0m \u001B[0mkey\u001B[0m\u001B[1;33m:\u001B[0m \u001B[0m_KT\u001B[0m\u001B[1;33m,\u001B[0m \u001B[0mdefault\u001B[0m\u001B[1;33m:\u001B[0m \u001B[0m_VT\u001B[0m\u001B[1;33m)\u001B[0m \u001B[1;33m->\u001B[0m \u001B[0m_VT\u001B[0m\u001B[1;33m:\u001B[0m\u001B[1;33m\u001B[0m\u001B[1;33m\u001B[0m\u001B[0m\n",
      "\u001B[1;31mWebDriverException\u001B[0m: Message: chrome not reachable\n  (Session info: chrome=100.0.4896.75)\nStacktrace:\nBacktrace:\n\tOrdinal0 [0x007B7413+2389011]\n\tOrdinal0 [0x00749F61+1941345]\n\tOrdinal0 [0x0063C520+836896]\n\tOrdinal0 [0x00630682+788098]\n\tOrdinal0 [0x00630EB8+790200]\n\tOrdinal0 [0x00632752+796498]\n\tOrdinal0 [0x0062C0D9+770265]\n\tOrdinal0 [0x0063D9D0+842192]\n\tOrdinal0 [0x00693AE2+1194722]\n\tOrdinal0 [0x00683F66+1130342]\n\tOrdinal0 [0x0065E546+976198]\n\tOrdinal0 [0x0065F456+980054]\n\tGetHandleVerifier [0x00969632+1727522]\n\tGetHandleVerifier [0x00A1BA4D+2457661]\n\tGetHandleVerifier [0x0084EB81+569713]\n\tGetHandleVerifier [0x0084DD76+566118]\n\tOrdinal0 [0x00750B2B+1968939]\n\tOrdinal0 [0x00755988+1989000]\n\tOrdinal0 [0x00755A75+1989237]\n\tOrdinal0 [0x0075ECB1+2026673]\n\tBaseThreadInitThunk [0x76787BA9+25]\n\tRtlInitializeExceptionChain [0x779FB7DB+107]\n\tRtlClearBits [0x779FB75F+191]\n"
     ]
    }
   ],
   "source": [
    "from selenium import webdriver\n",
    "import time\n",
    "\n",
    "\n",
    "def get_pic(url):\n",
    "    driver = webdriver.Chrome(executable_path=r'D:\\ProgramData\\chromedriver.exe')\n",
    "    driver.maximize_window()  # 最大化窗口\n",
    "    # 请求\n",
    "    driver.get(url)\n",
    "    time.sleep(5000)\n",
    "    driver.save_screenshot('quekou.png')\n",
    "\n",
    "\n",
    "get_pic(\"http://maoyan.com/board/4?offset=0\")"
   ],
   "metadata": {
    "collapsed": false,
    "pycharm": {
     "name": "#%%\n"
    }
   }
  },
  {
   "cell_type": "code",
   "execution_count": null,
   "outputs": [],
   "source": [],
   "metadata": {
    "collapsed": false,
    "pycharm": {
     "name": "#%%\n"
    }
   }
  }
 ],
 "metadata": {
  "kernelspec": {
   "display_name": "Python 3",
   "language": "python",
   "name": "python3"
  },
  "language_info": {
   "codemirror_mode": {
    "name": "ipython",
    "version": 2
   },
   "file_extension": ".py",
   "mimetype": "text/x-python",
   "name": "python",
   "nbconvert_exporter": "python",
   "pygments_lexer": "ipython2",
   "version": "2.7.6"
  }
 },
 "nbformat": 4,
 "nbformat_minor": 0
}