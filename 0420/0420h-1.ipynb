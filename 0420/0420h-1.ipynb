{
 "cells": [
  {
   "cell_type": "code",
   "execution_count": 8,
   "metadata": {
    "collapsed": true,
    "pycharm": {
     "name": "#%%\n"
    }
   },
   "outputs": [
    {
     "name": "stdout",
     "output_type": "stream",
     "text": [
      "x=[2.0, 3.0, 2.0],y=[5.0, 5.0, 0.0]\n",
      "x+y=[7.0, 8.0, 2.0]\n",
      "10x=[20.0, 30.0, 20.0]\n",
      "|x|=4.123105625617661\n",
      "<x,y>=25.0\n",
      "|x-y|=4.123105625617661\n"
     ]
    }
   ],
   "source": [
    "import math\n",
    "\n",
    "\n",
    "class Vector:\n",
    "    def __init__(self, a):\n",
    "        self._coords = a[:]\n",
    "        self._n = len(a)\n",
    "\n",
    "    def __getitem__(self, i):\n",
    "        return self._coords[i]\n",
    "\n",
    "    def __add__(self, other):\n",
    "        result = []\n",
    "        for i in range(self._n):\n",
    "            result.append(self._coords[i] + other._coords[i])\n",
    "        return Vector(result)\n",
    "\n",
    "    def __sub__(self, other):\n",
    "        result = []\n",
    "        for i in range(self._n):\n",
    "            result.append(self._coords[i] - other._coords[i])\n",
    "        return Vector(result)\n",
    "\n",
    "    def scale(self, n):\n",
    "        result = []\n",
    "        for i in range(self._n):\n",
    "            result.append(self._coords[i] * n)\n",
    "        return Vector(result)\n",
    "\n",
    "    def dot(self, other):\n",
    "        result = 0\n",
    "        for i in range(self._n):\n",
    "            result += self._coords[i] * other._coords[i]\n",
    "        return result\n",
    "\n",
    "    def __abs__(self):\n",
    "        return math.sqrt(self.dot(self))\n",
    "\n",
    "    def direction(self):\n",
    "        return self.scale(1.0 / abs(self))\n",
    "\n",
    "    def __str__(self):\n",
    "        return str(self._coords)\n",
    "\n",
    "    def __len__(self):\n",
    "        return self._n\n",
    "\n",
    "\n",
    "if __name__ == '__main__':\n",
    "    xCoords = [2.0, 3.0, 2.0]\n",
    "    yCoords = [5.0, 5.0, 0.0]\n",
    "    x = Vector(xCoords)\n",
    "    y = Vector(yCoords)\n",
    "    print('x={},y={}'.format(x, y))\n",
    "    print('x+y={}'.format(x + y))\n",
    "    print('10x={}'.format(x.scale(10.0)))\n",
    "    print('|x|={}'.format(abs(x)))\n",
    "    print('<x,y>={}'.format(x.dot(y)))\n",
    "    print('|x-y|={}'.format(abs(x - y)))"
   ]
  },
  {
   "cell_type": "code",
   "execution_count": 11,
   "outputs": [
    {
     "name": "stdout",
     "output_type": "stream",
     "text": [
      "[0.007017524852528449, 0.012631544734551208, 0.016842059646068278, 0.10245586284691535, 0.011228039764045518, 0.09824534793539828, 0.0014035049705056898, 0.019649069587079657, 0.0014035049705056898, 0.029473604380619484, 0.011228039764045518, 0.0028070099410113796, 0.0828067932598357, 0.016842059646068278, 0.011228039764045518, 0.015438554675562587, 0.009824534793539829, 0.005614019882022759, 0.025263089469102416, 0.018245564616573968, 0.014035049705056897, 0.07719277337781294, 0.0042105149115170696, 0.0014035049705056898, 0.011228039764045518, 0.018245564616573968, 0.015438554675562587, 0.007017524852528449, 0.0014035049705056898, 0.007017524852528449, 0.015438554675562587, 0.0, 0.0042105149115170696, 0.029473604380619484, 0.019649069587079657, 0.005614019882022759, 0.012631544734551208, 0.040701644144665004, 0.0028070099410113796, 0.022456079528091036, 0.0042105149115170696, 0.019649069587079657, 0.5024547794410369, 0.026666594439608105, 0.007017524852528449, 0.012631544734551208, 0.011228039764045518, 0.016842059646068278, 0.0014035049705056898, 0.007017524852528449, 0.021052574557585347, 0.021052574557585347, 0.005614019882022759, 0.07578926840730725, 0.012631544734551208, 0.015438554675562587, 0.008421029823034139, 0.008421029823034139, 0.0028070099410113796, 0.0042105149115170696, 0.0028070099410113796, 0.0042105149115170696, 0.0, 0.019649069587079657, 0.025263089469102416, 0.008421029823034139, 0.008421029823034139, 0.011228039764045518, 0.015438554675562587, 0.025263089469102416, 0.011228039764045518, 0.016842059646068278, 0.011228039764045518, 0.015438554675562587, 0.009824534793539829, 0.007017524852528449, 0.018245564616573968, 0.0, 0.03228061432163087, 0.007017524852528449, 0.0028070099410113796, 0.009824534793539829, 0.026666594439608105, 0.8224539127163342, 0.0, 0.04771916899719345, 0.018245564616573968, 0.012631544734551208, 0.06736823858427311, 0.014035049705056897, 0.005614019882022759, 0.009824534793539829, 0.028070099410113795, 0.011228039764045518, 0.014035049705056897, 0.018245564616573968, 0.0014035049705056898, 0.012631544734551208, 0.07298225846629587, 0.023859584498596726]\n"
     ]
    }
   ],
   "source": [
    "class Vector:\n",
    "    def __init__(self, a):\n",
    "        self._coords = a[:]\n",
    "        self._n = len(a)\n",
    "\n",
    "    def __getitem__(self, i):\n",
    "        return self._coords[i]\n",
    "\n",
    "    def __add__(self, other):\n",
    "        result = []\n",
    "        for i in range(self._n):\n",
    "            result.append(self._coords[i] + other._coords[i])\n",
    "        return Vector(result)\n",
    "\n",
    "    def __sub__(self, other):\n",
    "        result = []\n",
    "        for i in range(self._n):\n",
    "            result.append(self._coords[i] - other._coords[i])\n",
    "        return Vector(result)\n",
    "\n",
    "    def scale(self, n):\n",
    "        result = []\n",
    "        for i in range(self._n):\n",
    "            result.append(self._coords[i] * n)\n",
    "        return Vector(result)\n",
    "\n",
    "    def dot(self, other):\n",
    "        result = 0\n",
    "        for i in range(self._n):\n",
    "            result += self._coords[i] * other._coords[i]\n",
    "        return result\n",
    "\n",
    "    def __abs__(self):\n",
    "        return math.sqrt(self.dot(self))\n",
    "\n",
    "    def direction(self):\n",
    "        return self.scale(1.0 / abs(self))\n",
    "\n",
    "    def __str__(self):\n",
    "        return str(self._coords)\n",
    "\n",
    "    def __len__(self):\n",
    "        return self._n\n",
    "\n",
    "\n",
    "class Sketch:\n",
    "    def __init__(self, text, k, d):\n",
    "        freq = [0 for i in range(d)]\n",
    "        for i in range(len(text) - k):\n",
    "            kgram = text[i:i + k]\n",
    "            freq[hash(kgram) % d] += 1\n",
    "        vector = Vector(freq)\n",
    "        self._sketch = vector.direction()\n",
    "\n",
    "    def similarTo(self, others):\n",
    "        return self._sketch.dot(other._sketch)\n",
    "\n",
    "    def __str__(self):\n",
    "        return str(self._sketch)\n",
    "\n",
    "\n",
    "if __name__ == '__main__':\n",
    "    with open(\"results.txt\", 'r') as f:\n",
    "        text = f.read()\n",
    "        sketch = Sketch(text, 5, 100)\n",
    "        print(sketch)"
   ],
   "metadata": {
    "collapsed": false,
    "pycharm": {
     "name": "#%%\n"
    }
   }
  },
  {
   "cell_type": "code",
   "execution_count": 14,
   "outputs": [
    {
     "name": "stdout",
     "output_type": "stream",
     "text": [
      "           results.txt          results2.txt              diff.txt\n",
      "results.txt        0.9999999999999999    0.6199653173180398    0.9080675292887043\n",
      "results2.txt       0.6199653173180398    0.9999999999999767   0.24906495136561013\n",
      "diff.txt           0.9080675292887043   0.24906495136561013    0.9999999999999987\n"
     ]
    }
   ],
   "source": [
    "class Vector:\n",
    "    def __init__(self, a):\n",
    "        self._coords = a[:]\n",
    "        self._n = len(a)\n",
    "\n",
    "    def __getitem__(self, i):\n",
    "        return self._coords[i]\n",
    "\n",
    "    def __add__(self, other):\n",
    "        result = []\n",
    "        for i in range(self._n):\n",
    "            result.append(self._coords[i] + other._coords[i])\n",
    "        return Vector(result)\n",
    "\n",
    "    def __sub__(self, other):\n",
    "        result = []\n",
    "        for i in range(self._n):\n",
    "            result.append(self._coords[i] - other._coords[i])\n",
    "        return Vector(result)\n",
    "\n",
    "    def scale(self, n):\n",
    "        result = []\n",
    "        for i in range(self._n):\n",
    "            result.append(self._coords[i] * n)\n",
    "        return Vector(result)\n",
    "\n",
    "    def dot(self, other):\n",
    "        result = 0\n",
    "        for i in range(self._n):\n",
    "            result += self._coords[i] * other._coords[i]\n",
    "        return result\n",
    "\n",
    "    def __abs__(self):\n",
    "        return math.sqrt(self.dot(self))\n",
    "\n",
    "    def direction(self):\n",
    "        return self.scale(1.0 / abs(self))\n",
    "\n",
    "    def __str__(self):\n",
    "        return str(self._coords)\n",
    "\n",
    "    def __len__(self):\n",
    "        return self._n\n",
    "\n",
    "\n",
    "class Sketch:\n",
    "    def __init__(self, text, k, d):\n",
    "        freq = [0 for i in range(d)]\n",
    "        for i in range(len(text) - k):\n",
    "            kgram = text[i:i + k]\n",
    "            freq[hash(kgram) % d] += 1\n",
    "        vector = Vector(freq)\n",
    "        self._sketch = vector.direction()\n",
    "\n",
    "    def similarTo(self, others):\n",
    "        return self._sketch.dot(others._sketch)\n",
    "\n",
    "    def __str__(self):\n",
    "        return str(self._sketch)\n",
    "\n",
    "\n",
    "filenames = ['results.txt', 'results2.txt', 'diff.txt']\n",
    "k = 5\n",
    "d = 10000\n",
    "sketches = [0 for i in filenames]\n",
    "for i in range(len(filenames)):\n",
    "    with open(filenames[i], \"r\") as f:\n",
    "        text = f.read()\n",
    "        sketches[i] = Sketch(text, k, d)\n",
    "\n",
    "print('' * 15, end='')\n",
    "for filename in filenames:\n",
    "    print(\"{:>22}\".format(filename), end='')\n",
    "print()\n",
    "\n",
    "for i in range(len(filenames)):\n",
    "    print(\"{:15}\".format(filenames[i]), end='')\n",
    "    for j in range(len(filenames)):\n",
    "        print(\"{:22}\".format(sketches[i].similarTo(sketches[j])), end='')\n",
    "    print()"
   ],
   "metadata": {
    "collapsed": false,
    "pycharm": {
     "name": "#%%\n"
    }
   }
  },
  {
   "cell_type": "code",
   "execution_count": 1,
   "outputs": [
    {
     "ename": "NameError",
     "evalue": "name 'Vector' is not defined",
     "output_type": "error",
     "traceback": [
      "\u001B[1;31m---------------------------------------------------------------------------\u001B[0m",
      "\u001B[1;31mNameError\u001B[0m                                 Traceback (most recent call last)",
      "\u001B[1;32m~\\AppData\\Local\\Temp/ipykernel_77968/618102511.py\u001B[0m in \u001B[0;36m<module>\u001B[1;34m\u001B[0m\n\u001B[1;32m----> 1\u001B[1;33m \u001B[0mvectortest\u001B[0m\u001B[1;33m=\u001B[0m\u001B[0mVector\u001B[0m\u001B[1;33m(\u001B[0m\u001B[1;33m)\u001B[0m\u001B[1;33m\u001B[0m\u001B[1;33m\u001B[0m\u001B[0m\n\u001B[0m\u001B[0;32m      2\u001B[0m \u001B[0mhelp\u001B[0m\u001B[1;33m(\u001B[0m\u001B[0mvectortest\u001B[0m\u001B[1;33m)\u001B[0m\u001B[1;33m\u001B[0m\u001B[1;33m\u001B[0m\u001B[0m\n",
      "\u001B[1;31mNameError\u001B[0m: name 'Vector' is not defined"
     ]
    }
   ],
   "source": [
    "vectortest=Vector()\n",
    "help(vectortest)"
   ],
   "metadata": {
    "collapsed": false,
    "pycharm": {
     "name": "#%%\n"
    }
   }
  },
  {
   "cell_type": "code",
   "execution_count": 13,
   "outputs": [
    {
     "name": "stdout",
     "output_type": "stream",
     "text": [
      "12\n",
      "<class '__main__.test'>\n",
      "12\n"
     ]
    }
   ],
   "source": [
    "class test:\n",
    "    test=12\n",
    "    def set(self):\n",
    "        print(self.test)\n",
    "        return self.test\n",
    "\n",
    "a=test()\n",
    "print(test.test)\n",
    "print(a.set())"
   ],
   "metadata": {
    "collapsed": false,
    "pycharm": {
     "name": "#%%\n"
    }
   }
  },
  {
   "cell_type": "code",
   "execution_count": null,
   "outputs": [],
   "source": [],
   "metadata": {
    "collapsed": false,
    "pycharm": {
     "name": "#%%\n"
    }
   }
  }
 ],
 "metadata": {
  "kernelspec": {
   "display_name": "Python 3",
   "language": "python",
   "name": "python3"
  },
  "language_info": {
   "codemirror_mode": {
    "name": "ipython",
    "version": 2
   },
   "file_extension": ".py",
   "mimetype": "text/x-python",
   "name": "python",
   "nbconvert_exporter": "python",
   "pygments_lexer": "ipython2",
   "version": "2.7.6"
  }
 },
 "nbformat": 4,
 "nbformat_minor": 0
}